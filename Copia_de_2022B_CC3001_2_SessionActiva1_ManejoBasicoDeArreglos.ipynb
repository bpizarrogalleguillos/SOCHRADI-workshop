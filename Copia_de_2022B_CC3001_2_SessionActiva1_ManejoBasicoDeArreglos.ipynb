{
  "nbformat": 4,
  "nbformat_minor": 0,
  "metadata": {
    "colab": {
      "name": "Copia de 2022B_CC3001-2_SessionActiva1_ManejoBasicoDeArreglos_Barbay_WITH_SOLUTION.ipynb",
      "provenance": [],
      "collapsed_sections": [
        "3KJx8Ksm7foh",
        "CceOpyZ4zWeD",
        "MhfB9gjeHP4g",
        "fMiL96EpHpuj",
        "A4a25IZFD7GY"
      ],
      "include_colab_link": true
    },
    "kernelspec": {
      "name": "python3",
      "display_name": "Python 3"
    }
  },
  "cells": [
    {
      "cell_type": "markdown",
      "metadata": {
        "id": "view-in-github",
        "colab_type": "text"
      },
      "source": [
        "<a href=\"https://colab.research.google.com/github/bpizarrogalleguillos/Git1/blob/master/Copia_de_2022B_CC3001_2_SessionActiva1_ManejoBasicoDeArreglos.ipynb\" target=\"_parent\"><img src=\"https://colab.research.google.com/assets/colab-badge.svg\" alt=\"Open In Colab\"/></a>"
      ]
    },
    {
      "cell_type": "markdown",
      "metadata": {
        "id": "jbGTgr_lRz25"
      },
      "source": [
        "# CC3001-2 2022-2 - Session Activa 1: Manejo Basico de Arreglos "
      ]
    },
    {
      "cell_type": "markdown",
      "source": [
        "\n",
        "En esta sesion activa, ustedes programaran, validaran y evaluaran operaciones basicas sobre arreglos \n",
        "\n",
        "Al terminar la tarea exitosamente, usted deberia haber revisado las bases del uso \n",
        "- de Python, \n",
        "- de iPython y \n",
        "- de https://colab.research.google.com,\n",
        "\n",
        "que les serviran para todas las sesiones activas y tareas del semestre."
      ],
      "metadata": {
        "id": "shGWx5JEm7G0"
      }
    },
    {
      "cell_type": "markdown",
      "metadata": {
        "id": "Airlyusam2BK"
      },
      "source": [
        "---\n",
        "\n",
        "Más específicamente, dado un arreglo `log` en dos dimensiones, se pide \n",
        "1. calcular el promedio de los valores en una columna especifica de `log`;\n",
        "1. calcular la lista de valores distintos en una columna especifica de `log`;\n",
        "1. calcular la distribución de las occurrencias de cada valor en una columna especifica de `log`;\n",
        "1. calcular los promedios de los valores de una columna `valores` para cada valor de la columna `tipo` de `log`.\n",
        "\n",
        "\n"
      ]
    },
    {
      "cell_type": "markdown",
      "source": [
        "Para realizar la Sesion Activa, deben hacer una copia de este archivo/colab, compartirlo con los otros miembros de su grupo, y llenar juntos los vacíos con sus explicaciones, sus implementaciones y sus pruebas para las funciones pedidas. Es muy util nombrar a un encargado para copiar y modificar el colab, y más equilibrado sería tener un encargado distinto para cada ejercicio!\n"
      ],
      "metadata": {
        "id": "Tj9msmpIUo_w"
      }
    },
    {
      "cell_type": "markdown",
      "source": [
        "---\n",
        "# Preambulo"
      ],
      "metadata": {
        "id": "OrkfN_opqUBj"
      }
    },
    {
      "cell_type": "markdown",
      "source": [
        "En esta sesion activa, ustedes aplicaran su algoritmo a datos \"reales\", como el log de unos experimentos en \"Animal Compute Interface\" disponible en el repositorio https://buho.dcc.uchile.cl/~inca/Logs/WhatIsMore/\n",
        "\n"
      ],
      "metadata": {
        "id": "Pj50KEK438Wz"
      }
    },
    {
      "cell_type": "markdown",
      "source": [
        "Se puede descargar facilamente con una libreria Python llamada `pandas`, que sirve en general para hacer analisis estadisticas:"
      ],
      "metadata": {
        "id": "jT0GnMod4RXW"
      }
    },
    {
      "cell_type": "code",
      "source": [
        "!pip install pylint"
      ],
      "metadata": {
        "colab": {
          "base_uri": "https://localhost:8080/"
        },
        "id": "15wR_5BvM8f_",
        "outputId": "65e4be58-ad5f-46d8-fd59-3680a38601e6"
      },
      "execution_count": 2,
      "outputs": [
        {
          "output_type": "stream",
          "name": "stdout",
          "text": [
            "Looking in indexes: https://pypi.org/simple, https://us-python.pkg.dev/colab-wheels/public/simple/\n",
            "Collecting pylint\n",
            "  Downloading pylint-2.14.5-py3-none-any.whl (488 kB)\n",
            "\u001b[K     |████████████████████████████████| 488 kB 5.1 MB/s \n",
            "\u001b[?25hCollecting platformdirs>=2.2.0\n",
            "  Downloading platformdirs-2.5.2-py3-none-any.whl (14 kB)\n",
            "Requirement already satisfied: tomli>=1.1.0 in /usr/local/lib/python3.7/dist-packages (from pylint) (2.0.1)\n",
            "Requirement already satisfied: typing-extensions>=3.10.0 in /usr/local/lib/python3.7/dist-packages (from pylint) (4.1.1)\n",
            "Collecting astroid<=2.12.0-dev0,>=2.11.6\n",
            "  Downloading astroid-2.11.7-py3-none-any.whl (251 kB)\n",
            "\u001b[K     |████████████████████████████████| 251 kB 35.0 MB/s \n",
            "\u001b[?25hCollecting tomlkit>=0.10.1\n",
            "  Downloading tomlkit-0.11.4-py3-none-any.whl (35 kB)\n",
            "Collecting isort<6,>=4.2.5\n",
            "  Downloading isort-5.10.1-py3-none-any.whl (103 kB)\n",
            "\u001b[K     |████████████████████████████████| 103 kB 22.9 MB/s \n",
            "\u001b[?25hCollecting mccabe<0.8,>=0.6\n",
            "  Downloading mccabe-0.7.0-py2.py3-none-any.whl (7.3 kB)\n",
            "Requirement already satisfied: dill>=0.2 in /usr/local/lib/python3.7/dist-packages (from pylint) (0.3.5.1)\n",
            "Collecting lazy-object-proxy>=1.4.0\n",
            "  Downloading lazy_object_proxy-1.7.1-cp37-cp37m-manylinux_2_5_x86_64.manylinux1_x86_64.manylinux_2_17_x86_64.manylinux2014_x86_64.whl (57 kB)\n",
            "\u001b[K     |████████████████████████████████| 57 kB 3.9 MB/s \n",
            "\u001b[?25hRequirement already satisfied: wrapt<2,>=1.11 in /usr/local/lib/python3.7/dist-packages (from astroid<=2.12.0-dev0,>=2.11.6->pylint) (1.14.1)\n",
            "Requirement already satisfied: setuptools>=20.0 in /usr/local/lib/python3.7/dist-packages (from astroid<=2.12.0-dev0,>=2.11.6->pylint) (57.4.0)\n",
            "Collecting typed-ast<2.0,>=1.4.0\n",
            "  Downloading typed_ast-1.5.4-cp37-cp37m-manylinux_2_5_x86_64.manylinux1_x86_64.manylinux_2_12_x86_64.manylinux2010_x86_64.whl (843 kB)\n",
            "\u001b[K     |████████████████████████████████| 843 kB 7.2 MB/s \n",
            "\u001b[?25hInstalling collected packages: typed-ast, lazy-object-proxy, tomlkit, platformdirs, mccabe, isort, astroid, pylint\n",
            "Successfully installed astroid-2.11.7 isort-5.10.1 lazy-object-proxy-1.7.1 mccabe-0.7.0 platformdirs-2.5.2 pylint-2.14.5 tomlkit-0.11.4 typed-ast-1.5.4\n"
          ]
        }
      ]
    },
    {
      "cell_type": "code",
      "source": [
        "import pylint"
      ],
      "metadata": {
        "id": "pG6Ucnu9NAsp"
      },
      "execution_count": 3,
      "outputs": []
    },
    {
      "cell_type": "code",
      "source": [
        "import pandas\n",
        "column_names = ['Test no', 'Display Mode','Learner','Trainer', 'C0','C1','C2','C3','C4','Value selected','Correction','Date','Answering time (ms)','Colors','Opacity','Value Set']\n",
        "\n",
        "log_Lorenzo_df = pandas.read_csv(\n",
        "    \"https://buho.dcc.uchile.cl/~inca/Logs/WhatIsMore/2022-07-27_10_1522.435-InCA-BCT-Lorenzo_trained_by_Jeremy.csv\",\n",
        "    skiprows = 1,\n",
        "    names = column_names\n",
        "    )\n",
        "log_Lorenzo_df"
      ],
      "metadata": {
        "colab": {
          "base_uri": "https://localhost:8080/",
          "height": 424
        },
        "id": "Ib9rVX-DyTKR",
        "outputId": "750bf3ca-c591-4ae7-d014-73aebafa748f"
      },
      "execution_count": 4,
      "outputs": [
        {
          "output_type": "execute_result",
          "data": {
            "text/plain": [
              "     Test no Display Mode  Learner Trainer  C0  C1   C2  C3  C4  \\\n",
              "0          1         disc  Lorenzo  Jeremy   9   5  NaN NaN NaN   \n",
              "1          2         disc  Lorenzo  Jeremy   4   1  NaN NaN NaN   \n",
              "2          3         disc  Lorenzo  Jeremy   3   7  NaN NaN NaN   \n",
              "3          4         disc  Lorenzo  Jeremy   1   4  NaN NaN NaN   \n",
              "4          5         disc  Lorenzo  Jeremy   0   6  NaN NaN NaN   \n",
              "..       ...          ...      ...     ...  ..  ..  ...  ..  ..   \n",
              "123      124         rect  Lorenzo  Jeremy   0   8  2.0 NaN NaN   \n",
              "124      125         rect  Lorenzo  Jeremy   4   5  0.0 NaN NaN   \n",
              "125      126         rect  Lorenzo  Jeremy   7   9  8.0 NaN NaN   \n",
              "126      127         rect  Lorenzo  Jeremy   1   2  3.0 NaN NaN   \n",
              "127      128         rect  Lorenzo  Jeremy   9   6  7.0 NaN NaN   \n",
              "\n",
              "     Value selected  Correction                        Date  \\\n",
              "0                 9        True  [2022-07-26 15:02(41.817)]   \n",
              "1                 4        True  [2022-07-26 15:03(04.529)]   \n",
              "2                 7        True   [2022-07-26 15:03(08.63)]   \n",
              "3                 4        True  [2022-07-26 15:03(11.513)]   \n",
              "4                 6        True  [2022-07-26 15:03(15.147)]   \n",
              "..              ...         ...                         ...   \n",
              "123               8        True  [2022-07-27 10:02(04.456)]   \n",
              "124               5        True  [2022-07-27 10:02(08.699)]   \n",
              "125               9        True  [2022-07-27 10:02(10.695)]   \n",
              "126               3        True   [2022-07-27 10:02(18.16)]   \n",
              "127               6       False  [2022-07-27 10:02(24.772)]   \n",
              "\n",
              "     Answering time (ms)                               Colors        Opacity  \\\n",
              "0                    449  background black - foreground green  bg opacity .2   \n",
              "1                    425  background black - foreground green  bg opacity .2   \n",
              "2                    642  background black - foreground green  bg opacity .2   \n",
              "3                    574  background black - foreground green  bg opacity .2   \n",
              "4                   3095  background black - foreground green  bg opacity .2   \n",
              "..                   ...                                  ...            ...   \n",
              "123                  616  background black - foreground green  bg opacity .2   \n",
              "124                  683  background black - foreground green  bg opacity .2   \n",
              "125                  658  background black - foreground green  bg opacity .2   \n",
              "126                 1428  background black - foreground green  bg opacity .2   \n",
              "127                 1083  background black - foreground green  bg opacity .2   \n",
              "\n",
              "                         Value Set  \n",
              "0    Value Set 0,1,2,3,4,5,6,7,8,9  \n",
              "1    Value Set 0,1,2,3,4,5,6,7,8,9  \n",
              "2    Value Set 0,1,2,3,4,5,6,7,8,9  \n",
              "3    Value Set 0,1,2,3,4,5,6,7,8,9  \n",
              "4    Value Set 0,1,2,3,4,5,6,7,8,9  \n",
              "..                             ...  \n",
              "123  Value Set 0,1,2,3,4,5,6,7,8,9  \n",
              "124  Value Set 0,1,2,3,4,5,6,7,8,9  \n",
              "125  Value Set 0,1,2,3,4,5,6,7,8,9  \n",
              "126  Value Set 0,1,2,3,4,5,6,7,8,9  \n",
              "127  Value Set 0,1,2,3,4,5,6,7,8,9  \n",
              "\n",
              "[128 rows x 16 columns]"
            ],
            "text/html": [
              "\n",
              "  <div id=\"df-4f6473da-1e76-485c-b0c7-1d21b24f8212\">\n",
              "    <div class=\"colab-df-container\">\n",
              "      <div>\n",
              "<style scoped>\n",
              "    .dataframe tbody tr th:only-of-type {\n",
              "        vertical-align: middle;\n",
              "    }\n",
              "\n",
              "    .dataframe tbody tr th {\n",
              "        vertical-align: top;\n",
              "    }\n",
              "\n",
              "    .dataframe thead th {\n",
              "        text-align: right;\n",
              "    }\n",
              "</style>\n",
              "<table border=\"1\" class=\"dataframe\">\n",
              "  <thead>\n",
              "    <tr style=\"text-align: right;\">\n",
              "      <th></th>\n",
              "      <th>Test no</th>\n",
              "      <th>Display Mode</th>\n",
              "      <th>Learner</th>\n",
              "      <th>Trainer</th>\n",
              "      <th>C0</th>\n",
              "      <th>C1</th>\n",
              "      <th>C2</th>\n",
              "      <th>C3</th>\n",
              "      <th>C4</th>\n",
              "      <th>Value selected</th>\n",
              "      <th>Correction</th>\n",
              "      <th>Date</th>\n",
              "      <th>Answering time (ms)</th>\n",
              "      <th>Colors</th>\n",
              "      <th>Opacity</th>\n",
              "      <th>Value Set</th>\n",
              "    </tr>\n",
              "  </thead>\n",
              "  <tbody>\n",
              "    <tr>\n",
              "      <th>0</th>\n",
              "      <td>1</td>\n",
              "      <td>disc</td>\n",
              "      <td>Lorenzo</td>\n",
              "      <td>Jeremy</td>\n",
              "      <td>9</td>\n",
              "      <td>5</td>\n",
              "      <td>NaN</td>\n",
              "      <td>NaN</td>\n",
              "      <td>NaN</td>\n",
              "      <td>9</td>\n",
              "      <td>True</td>\n",
              "      <td>[2022-07-26 15:02(41.817)]</td>\n",
              "      <td>449</td>\n",
              "      <td>background black - foreground green</td>\n",
              "      <td>bg opacity .2</td>\n",
              "      <td>Value Set 0,1,2,3,4,5,6,7,8,9</td>\n",
              "    </tr>\n",
              "    <tr>\n",
              "      <th>1</th>\n",
              "      <td>2</td>\n",
              "      <td>disc</td>\n",
              "      <td>Lorenzo</td>\n",
              "      <td>Jeremy</td>\n",
              "      <td>4</td>\n",
              "      <td>1</td>\n",
              "      <td>NaN</td>\n",
              "      <td>NaN</td>\n",
              "      <td>NaN</td>\n",
              "      <td>4</td>\n",
              "      <td>True</td>\n",
              "      <td>[2022-07-26 15:03(04.529)]</td>\n",
              "      <td>425</td>\n",
              "      <td>background black - foreground green</td>\n",
              "      <td>bg opacity .2</td>\n",
              "      <td>Value Set 0,1,2,3,4,5,6,7,8,9</td>\n",
              "    </tr>\n",
              "    <tr>\n",
              "      <th>2</th>\n",
              "      <td>3</td>\n",
              "      <td>disc</td>\n",
              "      <td>Lorenzo</td>\n",
              "      <td>Jeremy</td>\n",
              "      <td>3</td>\n",
              "      <td>7</td>\n",
              "      <td>NaN</td>\n",
              "      <td>NaN</td>\n",
              "      <td>NaN</td>\n",
              "      <td>7</td>\n",
              "      <td>True</td>\n",
              "      <td>[2022-07-26 15:03(08.63)]</td>\n",
              "      <td>642</td>\n",
              "      <td>background black - foreground green</td>\n",
              "      <td>bg opacity .2</td>\n",
              "      <td>Value Set 0,1,2,3,4,5,6,7,8,9</td>\n",
              "    </tr>\n",
              "    <tr>\n",
              "      <th>3</th>\n",
              "      <td>4</td>\n",
              "      <td>disc</td>\n",
              "      <td>Lorenzo</td>\n",
              "      <td>Jeremy</td>\n",
              "      <td>1</td>\n",
              "      <td>4</td>\n",
              "      <td>NaN</td>\n",
              "      <td>NaN</td>\n",
              "      <td>NaN</td>\n",
              "      <td>4</td>\n",
              "      <td>True</td>\n",
              "      <td>[2022-07-26 15:03(11.513)]</td>\n",
              "      <td>574</td>\n",
              "      <td>background black - foreground green</td>\n",
              "      <td>bg opacity .2</td>\n",
              "      <td>Value Set 0,1,2,3,4,5,6,7,8,9</td>\n",
              "    </tr>\n",
              "    <tr>\n",
              "      <th>4</th>\n",
              "      <td>5</td>\n",
              "      <td>disc</td>\n",
              "      <td>Lorenzo</td>\n",
              "      <td>Jeremy</td>\n",
              "      <td>0</td>\n",
              "      <td>6</td>\n",
              "      <td>NaN</td>\n",
              "      <td>NaN</td>\n",
              "      <td>NaN</td>\n",
              "      <td>6</td>\n",
              "      <td>True</td>\n",
              "      <td>[2022-07-26 15:03(15.147)]</td>\n",
              "      <td>3095</td>\n",
              "      <td>background black - foreground green</td>\n",
              "      <td>bg opacity .2</td>\n",
              "      <td>Value Set 0,1,2,3,4,5,6,7,8,9</td>\n",
              "    </tr>\n",
              "    <tr>\n",
              "      <th>...</th>\n",
              "      <td>...</td>\n",
              "      <td>...</td>\n",
              "      <td>...</td>\n",
              "      <td>...</td>\n",
              "      <td>...</td>\n",
              "      <td>...</td>\n",
              "      <td>...</td>\n",
              "      <td>...</td>\n",
              "      <td>...</td>\n",
              "      <td>...</td>\n",
              "      <td>...</td>\n",
              "      <td>...</td>\n",
              "      <td>...</td>\n",
              "      <td>...</td>\n",
              "      <td>...</td>\n",
              "      <td>...</td>\n",
              "    </tr>\n",
              "    <tr>\n",
              "      <th>123</th>\n",
              "      <td>124</td>\n",
              "      <td>rect</td>\n",
              "      <td>Lorenzo</td>\n",
              "      <td>Jeremy</td>\n",
              "      <td>0</td>\n",
              "      <td>8</td>\n",
              "      <td>2.0</td>\n",
              "      <td>NaN</td>\n",
              "      <td>NaN</td>\n",
              "      <td>8</td>\n",
              "      <td>True</td>\n",
              "      <td>[2022-07-27 10:02(04.456)]</td>\n",
              "      <td>616</td>\n",
              "      <td>background black - foreground green</td>\n",
              "      <td>bg opacity .2</td>\n",
              "      <td>Value Set 0,1,2,3,4,5,6,7,8,9</td>\n",
              "    </tr>\n",
              "    <tr>\n",
              "      <th>124</th>\n",
              "      <td>125</td>\n",
              "      <td>rect</td>\n",
              "      <td>Lorenzo</td>\n",
              "      <td>Jeremy</td>\n",
              "      <td>4</td>\n",
              "      <td>5</td>\n",
              "      <td>0.0</td>\n",
              "      <td>NaN</td>\n",
              "      <td>NaN</td>\n",
              "      <td>5</td>\n",
              "      <td>True</td>\n",
              "      <td>[2022-07-27 10:02(08.699)]</td>\n",
              "      <td>683</td>\n",
              "      <td>background black - foreground green</td>\n",
              "      <td>bg opacity .2</td>\n",
              "      <td>Value Set 0,1,2,3,4,5,6,7,8,9</td>\n",
              "    </tr>\n",
              "    <tr>\n",
              "      <th>125</th>\n",
              "      <td>126</td>\n",
              "      <td>rect</td>\n",
              "      <td>Lorenzo</td>\n",
              "      <td>Jeremy</td>\n",
              "      <td>7</td>\n",
              "      <td>9</td>\n",
              "      <td>8.0</td>\n",
              "      <td>NaN</td>\n",
              "      <td>NaN</td>\n",
              "      <td>9</td>\n",
              "      <td>True</td>\n",
              "      <td>[2022-07-27 10:02(10.695)]</td>\n",
              "      <td>658</td>\n",
              "      <td>background black - foreground green</td>\n",
              "      <td>bg opacity .2</td>\n",
              "      <td>Value Set 0,1,2,3,4,5,6,7,8,9</td>\n",
              "    </tr>\n",
              "    <tr>\n",
              "      <th>126</th>\n",
              "      <td>127</td>\n",
              "      <td>rect</td>\n",
              "      <td>Lorenzo</td>\n",
              "      <td>Jeremy</td>\n",
              "      <td>1</td>\n",
              "      <td>2</td>\n",
              "      <td>3.0</td>\n",
              "      <td>NaN</td>\n",
              "      <td>NaN</td>\n",
              "      <td>3</td>\n",
              "      <td>True</td>\n",
              "      <td>[2022-07-27 10:02(18.16)]</td>\n",
              "      <td>1428</td>\n",
              "      <td>background black - foreground green</td>\n",
              "      <td>bg opacity .2</td>\n",
              "      <td>Value Set 0,1,2,3,4,5,6,7,8,9</td>\n",
              "    </tr>\n",
              "    <tr>\n",
              "      <th>127</th>\n",
              "      <td>128</td>\n",
              "      <td>rect</td>\n",
              "      <td>Lorenzo</td>\n",
              "      <td>Jeremy</td>\n",
              "      <td>9</td>\n",
              "      <td>6</td>\n",
              "      <td>7.0</td>\n",
              "      <td>NaN</td>\n",
              "      <td>NaN</td>\n",
              "      <td>6</td>\n",
              "      <td>False</td>\n",
              "      <td>[2022-07-27 10:02(24.772)]</td>\n",
              "      <td>1083</td>\n",
              "      <td>background black - foreground green</td>\n",
              "      <td>bg opacity .2</td>\n",
              "      <td>Value Set 0,1,2,3,4,5,6,7,8,9</td>\n",
              "    </tr>\n",
              "  </tbody>\n",
              "</table>\n",
              "<p>128 rows × 16 columns</p>\n",
              "</div>\n",
              "      <button class=\"colab-df-convert\" onclick=\"convertToInteractive('df-4f6473da-1e76-485c-b0c7-1d21b24f8212')\"\n",
              "              title=\"Convert this dataframe to an interactive table.\"\n",
              "              style=\"display:none;\">\n",
              "        \n",
              "  <svg xmlns=\"http://www.w3.org/2000/svg\" height=\"24px\"viewBox=\"0 0 24 24\"\n",
              "       width=\"24px\">\n",
              "    <path d=\"M0 0h24v24H0V0z\" fill=\"none\"/>\n",
              "    <path d=\"M18.56 5.44l.94 2.06.94-2.06 2.06-.94-2.06-.94-.94-2.06-.94 2.06-2.06.94zm-11 1L8.5 8.5l.94-2.06 2.06-.94-2.06-.94L8.5 2.5l-.94 2.06-2.06.94zm10 10l.94 2.06.94-2.06 2.06-.94-2.06-.94-.94-2.06-.94 2.06-2.06.94z\"/><path d=\"M17.41 7.96l-1.37-1.37c-.4-.4-.92-.59-1.43-.59-.52 0-1.04.2-1.43.59L10.3 9.45l-7.72 7.72c-.78.78-.78 2.05 0 2.83L4 21.41c.39.39.9.59 1.41.59.51 0 1.02-.2 1.41-.59l7.78-7.78 2.81-2.81c.8-.78.8-2.07 0-2.86zM5.41 20L4 18.59l7.72-7.72 1.47 1.35L5.41 20z\"/>\n",
              "  </svg>\n",
              "      </button>\n",
              "      \n",
              "  <style>\n",
              "    .colab-df-container {\n",
              "      display:flex;\n",
              "      flex-wrap:wrap;\n",
              "      gap: 12px;\n",
              "    }\n",
              "\n",
              "    .colab-df-convert {\n",
              "      background-color: #E8F0FE;\n",
              "      border: none;\n",
              "      border-radius: 50%;\n",
              "      cursor: pointer;\n",
              "      display: none;\n",
              "      fill: #1967D2;\n",
              "      height: 32px;\n",
              "      padding: 0 0 0 0;\n",
              "      width: 32px;\n",
              "    }\n",
              "\n",
              "    .colab-df-convert:hover {\n",
              "      background-color: #E2EBFA;\n",
              "      box-shadow: 0px 1px 2px rgba(60, 64, 67, 0.3), 0px 1px 3px 1px rgba(60, 64, 67, 0.15);\n",
              "      fill: #174EA6;\n",
              "    }\n",
              "\n",
              "    [theme=dark] .colab-df-convert {\n",
              "      background-color: #3B4455;\n",
              "      fill: #D2E3FC;\n",
              "    }\n",
              "\n",
              "    [theme=dark] .colab-df-convert:hover {\n",
              "      background-color: #434B5C;\n",
              "      box-shadow: 0px 1px 3px 1px rgba(0, 0, 0, 0.15);\n",
              "      filter: drop-shadow(0px 1px 2px rgba(0, 0, 0, 0.3));\n",
              "      fill: #FFFFFF;\n",
              "    }\n",
              "  </style>\n",
              "\n",
              "      <script>\n",
              "        const buttonEl =\n",
              "          document.querySelector('#df-4f6473da-1e76-485c-b0c7-1d21b24f8212 button.colab-df-convert');\n",
              "        buttonEl.style.display =\n",
              "          google.colab.kernel.accessAllowed ? 'block' : 'none';\n",
              "\n",
              "        async function convertToInteractive(key) {\n",
              "          const element = document.querySelector('#df-4f6473da-1e76-485c-b0c7-1d21b24f8212');\n",
              "          const dataTable =\n",
              "            await google.colab.kernel.invokeFunction('convertToInteractive',\n",
              "                                                     [key], {});\n",
              "          if (!dataTable) return;\n",
              "\n",
              "          const docLinkHtml = 'Like what you see? Visit the ' +\n",
              "            '<a target=\"_blank\" href=https://colab.research.google.com/notebooks/data_table.ipynb>data table notebook</a>'\n",
              "            + ' to learn more about interactive tables.';\n",
              "          element.innerHTML = '';\n",
              "          dataTable['output_type'] = 'display_data';\n",
              "          await google.colab.output.renderOutput(dataTable, element);\n",
              "          const docLink = document.createElement('div');\n",
              "          docLink.innerHTML = docLinkHtml;\n",
              "          element.appendChild(docLink);\n",
              "        }\n",
              "      </script>\n",
              "    </div>\n",
              "  </div>\n",
              "  "
            ]
          },
          "metadata": {},
          "execution_count": 4
        }
      ]
    },
    {
      "cell_type": "code",
      "source": [
        "log_Tina_df = pandas.read_csv(\"https://buho.dcc.uchile.cl/~inca/Logs/WhatIsMore/2022-07-27_10_1422.374-InCA-BCT-Tina_trained_by_Jeremy.csv\",\n",
        "    skiprows = 1,\n",
        "    names = column_names\n",
        "    )\n",
        "log_Tina_df"
      ],
      "metadata": {
        "colab": {
          "base_uri": "https://localhost:8080/",
          "height": 424
        },
        "id": "JjfmDIHlAeWT",
        "outputId": "0db86534-fcfa-4148-805c-2e55098b38b9"
      },
      "execution_count": 5,
      "outputs": [
        {
          "output_type": "execute_result",
          "data": {
            "text/plain": [
              "    Test no Display Mode Learner Trainer  C0  C1  C2  C3  C4  Value selected  \\\n",
              "0         1         dice    Tina  Jeremy   6   9 NaN NaN NaN               6   \n",
              "1         2         dice    Tina  Jeremy   6   3 NaN NaN NaN               6   \n",
              "2         3         dice    Tina  Jeremy   0   6 NaN NaN NaN               6   \n",
              "3         4         dice    Tina  Jeremy   9   0 NaN NaN NaN               9   \n",
              "4         5         dice    Tina  Jeremy   9   6 NaN NaN NaN               9   \n",
              "..      ...          ...     ...     ...  ..  ..  ..  ..  ..             ...   \n",
              "73       74         rect    Tina  Jeremy   7   9 NaN NaN NaN               9   \n",
              "74       75         rect    Tina  Jeremy   7   9 NaN NaN NaN               7   \n",
              "75       76         rect    Tina  Jeremy   0   5 NaN NaN NaN               5   \n",
              "76       77         rect    Tina  Jeremy   3   9 NaN NaN NaN               3   \n",
              "77       78         rect    Tina  Jeremy   8   3 NaN NaN NaN               8   \n",
              "\n",
              "    Correction                        Date  Answering time (ms)  \\\n",
              "0        False  [2022-07-26 15:02(51.854)]                 1341   \n",
              "1         True  [2022-07-26 15:03(06.263)]                 1079   \n",
              "2         True  [2022-07-26 15:03(24.296)]                 8654   \n",
              "3         True  [2022-07-26 15:03(47.830)]                  916   \n",
              "4         True  [2022-07-26 15:04(16.830)]                  962   \n",
              "..         ...                         ...                  ...   \n",
              "73        True  [2022-07-27 10:05(23.758)]                 2039   \n",
              "74       False  [2022-07-27 10:05(37.829)]                11830   \n",
              "75        True  [2022-07-27 10:05(40.813)]                 1304   \n",
              "76       False  [2022-07-27 10:05(48.804)]                 6149   \n",
              "77        True   [2022-07-27 10:05(53.91)]                 1238   \n",
              "\n",
              "                                 Colors        Opacity  \\\n",
              "0   background black - foreground green  bg opacity .2   \n",
              "1   background black - foreground green  bg opacity .2   \n",
              "2   background black - foreground green  bg opacity .2   \n",
              "3   background black - foreground green  bg opacity .2   \n",
              "4   background black - foreground green  bg opacity .2   \n",
              "..                                  ...            ...   \n",
              "73  background black - foreground green  bg opacity .2   \n",
              "74  background black - foreground green  bg opacity .2   \n",
              "75  background black - foreground green  bg opacity .2   \n",
              "76  background black - foreground green  bg opacity .2   \n",
              "77  background black - foreground green  bg opacity .2   \n",
              "\n",
              "                        Value Set  \n",
              "0               Value Set 0,3,6,9  \n",
              "1               Value Set 0,3,6,9  \n",
              "2               Value Set 0,3,6,9  \n",
              "3               Value Set 0,3,6,9  \n",
              "4               Value Set 0,3,6,9  \n",
              "..                            ...  \n",
              "73  Value Set 0,1,2,3,4,5,6,7,8,9  \n",
              "74  Value Set 0,1,2,3,4,5,6,7,8,9  \n",
              "75  Value Set 0,1,2,3,4,5,6,7,8,9  \n",
              "76  Value Set 0,1,2,3,4,5,6,7,8,9  \n",
              "77  Value Set 0,1,2,3,4,5,6,7,8,9  \n",
              "\n",
              "[78 rows x 16 columns]"
            ],
            "text/html": [
              "\n",
              "  <div id=\"df-24503173-5877-4dab-ae59-8c485fba49a1\">\n",
              "    <div class=\"colab-df-container\">\n",
              "      <div>\n",
              "<style scoped>\n",
              "    .dataframe tbody tr th:only-of-type {\n",
              "        vertical-align: middle;\n",
              "    }\n",
              "\n",
              "    .dataframe tbody tr th {\n",
              "        vertical-align: top;\n",
              "    }\n",
              "\n",
              "    .dataframe thead th {\n",
              "        text-align: right;\n",
              "    }\n",
              "</style>\n",
              "<table border=\"1\" class=\"dataframe\">\n",
              "  <thead>\n",
              "    <tr style=\"text-align: right;\">\n",
              "      <th></th>\n",
              "      <th>Test no</th>\n",
              "      <th>Display Mode</th>\n",
              "      <th>Learner</th>\n",
              "      <th>Trainer</th>\n",
              "      <th>C0</th>\n",
              "      <th>C1</th>\n",
              "      <th>C2</th>\n",
              "      <th>C3</th>\n",
              "      <th>C4</th>\n",
              "      <th>Value selected</th>\n",
              "      <th>Correction</th>\n",
              "      <th>Date</th>\n",
              "      <th>Answering time (ms)</th>\n",
              "      <th>Colors</th>\n",
              "      <th>Opacity</th>\n",
              "      <th>Value Set</th>\n",
              "    </tr>\n",
              "  </thead>\n",
              "  <tbody>\n",
              "    <tr>\n",
              "      <th>0</th>\n",
              "      <td>1</td>\n",
              "      <td>dice</td>\n",
              "      <td>Tina</td>\n",
              "      <td>Jeremy</td>\n",
              "      <td>6</td>\n",
              "      <td>9</td>\n",
              "      <td>NaN</td>\n",
              "      <td>NaN</td>\n",
              "      <td>NaN</td>\n",
              "      <td>6</td>\n",
              "      <td>False</td>\n",
              "      <td>[2022-07-26 15:02(51.854)]</td>\n",
              "      <td>1341</td>\n",
              "      <td>background black - foreground green</td>\n",
              "      <td>bg opacity .2</td>\n",
              "      <td>Value Set 0,3,6,9</td>\n",
              "    </tr>\n",
              "    <tr>\n",
              "      <th>1</th>\n",
              "      <td>2</td>\n",
              "      <td>dice</td>\n",
              "      <td>Tina</td>\n",
              "      <td>Jeremy</td>\n",
              "      <td>6</td>\n",
              "      <td>3</td>\n",
              "      <td>NaN</td>\n",
              "      <td>NaN</td>\n",
              "      <td>NaN</td>\n",
              "      <td>6</td>\n",
              "      <td>True</td>\n",
              "      <td>[2022-07-26 15:03(06.263)]</td>\n",
              "      <td>1079</td>\n",
              "      <td>background black - foreground green</td>\n",
              "      <td>bg opacity .2</td>\n",
              "      <td>Value Set 0,3,6,9</td>\n",
              "    </tr>\n",
              "    <tr>\n",
              "      <th>2</th>\n",
              "      <td>3</td>\n",
              "      <td>dice</td>\n",
              "      <td>Tina</td>\n",
              "      <td>Jeremy</td>\n",
              "      <td>0</td>\n",
              "      <td>6</td>\n",
              "      <td>NaN</td>\n",
              "      <td>NaN</td>\n",
              "      <td>NaN</td>\n",
              "      <td>6</td>\n",
              "      <td>True</td>\n",
              "      <td>[2022-07-26 15:03(24.296)]</td>\n",
              "      <td>8654</td>\n",
              "      <td>background black - foreground green</td>\n",
              "      <td>bg opacity .2</td>\n",
              "      <td>Value Set 0,3,6,9</td>\n",
              "    </tr>\n",
              "    <tr>\n",
              "      <th>3</th>\n",
              "      <td>4</td>\n",
              "      <td>dice</td>\n",
              "      <td>Tina</td>\n",
              "      <td>Jeremy</td>\n",
              "      <td>9</td>\n",
              "      <td>0</td>\n",
              "      <td>NaN</td>\n",
              "      <td>NaN</td>\n",
              "      <td>NaN</td>\n",
              "      <td>9</td>\n",
              "      <td>True</td>\n",
              "      <td>[2022-07-26 15:03(47.830)]</td>\n",
              "      <td>916</td>\n",
              "      <td>background black - foreground green</td>\n",
              "      <td>bg opacity .2</td>\n",
              "      <td>Value Set 0,3,6,9</td>\n",
              "    </tr>\n",
              "    <tr>\n",
              "      <th>4</th>\n",
              "      <td>5</td>\n",
              "      <td>dice</td>\n",
              "      <td>Tina</td>\n",
              "      <td>Jeremy</td>\n",
              "      <td>9</td>\n",
              "      <td>6</td>\n",
              "      <td>NaN</td>\n",
              "      <td>NaN</td>\n",
              "      <td>NaN</td>\n",
              "      <td>9</td>\n",
              "      <td>True</td>\n",
              "      <td>[2022-07-26 15:04(16.830)]</td>\n",
              "      <td>962</td>\n",
              "      <td>background black - foreground green</td>\n",
              "      <td>bg opacity .2</td>\n",
              "      <td>Value Set 0,3,6,9</td>\n",
              "    </tr>\n",
              "    <tr>\n",
              "      <th>...</th>\n",
              "      <td>...</td>\n",
              "      <td>...</td>\n",
              "      <td>...</td>\n",
              "      <td>...</td>\n",
              "      <td>...</td>\n",
              "      <td>...</td>\n",
              "      <td>...</td>\n",
              "      <td>...</td>\n",
              "      <td>...</td>\n",
              "      <td>...</td>\n",
              "      <td>...</td>\n",
              "      <td>...</td>\n",
              "      <td>...</td>\n",
              "      <td>...</td>\n",
              "      <td>...</td>\n",
              "      <td>...</td>\n",
              "    </tr>\n",
              "    <tr>\n",
              "      <th>73</th>\n",
              "      <td>74</td>\n",
              "      <td>rect</td>\n",
              "      <td>Tina</td>\n",
              "      <td>Jeremy</td>\n",
              "      <td>7</td>\n",
              "      <td>9</td>\n",
              "      <td>NaN</td>\n",
              "      <td>NaN</td>\n",
              "      <td>NaN</td>\n",
              "      <td>9</td>\n",
              "      <td>True</td>\n",
              "      <td>[2022-07-27 10:05(23.758)]</td>\n",
              "      <td>2039</td>\n",
              "      <td>background black - foreground green</td>\n",
              "      <td>bg opacity .2</td>\n",
              "      <td>Value Set 0,1,2,3,4,5,6,7,8,9</td>\n",
              "    </tr>\n",
              "    <tr>\n",
              "      <th>74</th>\n",
              "      <td>75</td>\n",
              "      <td>rect</td>\n",
              "      <td>Tina</td>\n",
              "      <td>Jeremy</td>\n",
              "      <td>7</td>\n",
              "      <td>9</td>\n",
              "      <td>NaN</td>\n",
              "      <td>NaN</td>\n",
              "      <td>NaN</td>\n",
              "      <td>7</td>\n",
              "      <td>False</td>\n",
              "      <td>[2022-07-27 10:05(37.829)]</td>\n",
              "      <td>11830</td>\n",
              "      <td>background black - foreground green</td>\n",
              "      <td>bg opacity .2</td>\n",
              "      <td>Value Set 0,1,2,3,4,5,6,7,8,9</td>\n",
              "    </tr>\n",
              "    <tr>\n",
              "      <th>75</th>\n",
              "      <td>76</td>\n",
              "      <td>rect</td>\n",
              "      <td>Tina</td>\n",
              "      <td>Jeremy</td>\n",
              "      <td>0</td>\n",
              "      <td>5</td>\n",
              "      <td>NaN</td>\n",
              "      <td>NaN</td>\n",
              "      <td>NaN</td>\n",
              "      <td>5</td>\n",
              "      <td>True</td>\n",
              "      <td>[2022-07-27 10:05(40.813)]</td>\n",
              "      <td>1304</td>\n",
              "      <td>background black - foreground green</td>\n",
              "      <td>bg opacity .2</td>\n",
              "      <td>Value Set 0,1,2,3,4,5,6,7,8,9</td>\n",
              "    </tr>\n",
              "    <tr>\n",
              "      <th>76</th>\n",
              "      <td>77</td>\n",
              "      <td>rect</td>\n",
              "      <td>Tina</td>\n",
              "      <td>Jeremy</td>\n",
              "      <td>3</td>\n",
              "      <td>9</td>\n",
              "      <td>NaN</td>\n",
              "      <td>NaN</td>\n",
              "      <td>NaN</td>\n",
              "      <td>3</td>\n",
              "      <td>False</td>\n",
              "      <td>[2022-07-27 10:05(48.804)]</td>\n",
              "      <td>6149</td>\n",
              "      <td>background black - foreground green</td>\n",
              "      <td>bg opacity .2</td>\n",
              "      <td>Value Set 0,1,2,3,4,5,6,7,8,9</td>\n",
              "    </tr>\n",
              "    <tr>\n",
              "      <th>77</th>\n",
              "      <td>78</td>\n",
              "      <td>rect</td>\n",
              "      <td>Tina</td>\n",
              "      <td>Jeremy</td>\n",
              "      <td>8</td>\n",
              "      <td>3</td>\n",
              "      <td>NaN</td>\n",
              "      <td>NaN</td>\n",
              "      <td>NaN</td>\n",
              "      <td>8</td>\n",
              "      <td>True</td>\n",
              "      <td>[2022-07-27 10:05(53.91)]</td>\n",
              "      <td>1238</td>\n",
              "      <td>background black - foreground green</td>\n",
              "      <td>bg opacity .2</td>\n",
              "      <td>Value Set 0,1,2,3,4,5,6,7,8,9</td>\n",
              "    </tr>\n",
              "  </tbody>\n",
              "</table>\n",
              "<p>78 rows × 16 columns</p>\n",
              "</div>\n",
              "      <button class=\"colab-df-convert\" onclick=\"convertToInteractive('df-24503173-5877-4dab-ae59-8c485fba49a1')\"\n",
              "              title=\"Convert this dataframe to an interactive table.\"\n",
              "              style=\"display:none;\">\n",
              "        \n",
              "  <svg xmlns=\"http://www.w3.org/2000/svg\" height=\"24px\"viewBox=\"0 0 24 24\"\n",
              "       width=\"24px\">\n",
              "    <path d=\"M0 0h24v24H0V0z\" fill=\"none\"/>\n",
              "    <path d=\"M18.56 5.44l.94 2.06.94-2.06 2.06-.94-2.06-.94-.94-2.06-.94 2.06-2.06.94zm-11 1L8.5 8.5l.94-2.06 2.06-.94-2.06-.94L8.5 2.5l-.94 2.06-2.06.94zm10 10l.94 2.06.94-2.06 2.06-.94-2.06-.94-.94-2.06-.94 2.06-2.06.94z\"/><path d=\"M17.41 7.96l-1.37-1.37c-.4-.4-.92-.59-1.43-.59-.52 0-1.04.2-1.43.59L10.3 9.45l-7.72 7.72c-.78.78-.78 2.05 0 2.83L4 21.41c.39.39.9.59 1.41.59.51 0 1.02-.2 1.41-.59l7.78-7.78 2.81-2.81c.8-.78.8-2.07 0-2.86zM5.41 20L4 18.59l7.72-7.72 1.47 1.35L5.41 20z\"/>\n",
              "  </svg>\n",
              "      </button>\n",
              "      \n",
              "  <style>\n",
              "    .colab-df-container {\n",
              "      display:flex;\n",
              "      flex-wrap:wrap;\n",
              "      gap: 12px;\n",
              "    }\n",
              "\n",
              "    .colab-df-convert {\n",
              "      background-color: #E8F0FE;\n",
              "      border: none;\n",
              "      border-radius: 50%;\n",
              "      cursor: pointer;\n",
              "      display: none;\n",
              "      fill: #1967D2;\n",
              "      height: 32px;\n",
              "      padding: 0 0 0 0;\n",
              "      width: 32px;\n",
              "    }\n",
              "\n",
              "    .colab-df-convert:hover {\n",
              "      background-color: #E2EBFA;\n",
              "      box-shadow: 0px 1px 2px rgba(60, 64, 67, 0.3), 0px 1px 3px 1px rgba(60, 64, 67, 0.15);\n",
              "      fill: #174EA6;\n",
              "    }\n",
              "\n",
              "    [theme=dark] .colab-df-convert {\n",
              "      background-color: #3B4455;\n",
              "      fill: #D2E3FC;\n",
              "    }\n",
              "\n",
              "    [theme=dark] .colab-df-convert:hover {\n",
              "      background-color: #434B5C;\n",
              "      box-shadow: 0px 1px 3px 1px rgba(0, 0, 0, 0.15);\n",
              "      filter: drop-shadow(0px 1px 2px rgba(0, 0, 0, 0.3));\n",
              "      fill: #FFFFFF;\n",
              "    }\n",
              "  </style>\n",
              "\n",
              "      <script>\n",
              "        const buttonEl =\n",
              "          document.querySelector('#df-24503173-5877-4dab-ae59-8c485fba49a1 button.colab-df-convert');\n",
              "        buttonEl.style.display =\n",
              "          google.colab.kernel.accessAllowed ? 'block' : 'none';\n",
              "\n",
              "        async function convertToInteractive(key) {\n",
              "          const element = document.querySelector('#df-24503173-5877-4dab-ae59-8c485fba49a1');\n",
              "          const dataTable =\n",
              "            await google.colab.kernel.invokeFunction('convertToInteractive',\n",
              "                                                     [key], {});\n",
              "          if (!dataTable) return;\n",
              "\n",
              "          const docLinkHtml = 'Like what you see? Visit the ' +\n",
              "            '<a target=\"_blank\" href=https://colab.research.google.com/notebooks/data_table.ipynb>data table notebook</a>'\n",
              "            + ' to learn more about interactive tables.';\n",
              "          element.innerHTML = '';\n",
              "          dataTable['output_type'] = 'display_data';\n",
              "          await google.colab.output.renderOutput(dataTable, element);\n",
              "          const docLink = document.createElement('div');\n",
              "          docLink.innerHTML = docLinkHtml;\n",
              "          element.appendChild(docLink);\n",
              "        }\n",
              "      </script>\n",
              "    </div>\n",
              "  </div>\n",
              "  "
            ]
          },
          "metadata": {},
          "execution_count": 5
        }
      ]
    },
    {
      "cell_type": "markdown",
      "source": [
        "La libraria usa una estructura de datos poderosa llamada `data_frame` (por eso dimos la extension `_df` a la variable `log_Lorenzo_df`. Para esta tarea necesitamos solamente un arreglo, que se puede extraer de la manera siguiente:"
      ],
      "metadata": {
        "id": "1UoU2I7z4bVC"
      }
    },
    {
      "cell_type": "code",
      "source": [
        "import numpy\n",
        "log_Lorenzo = log_Lorenzo_df.to_numpy()\n",
        "log_Lorenzo"
      ],
      "metadata": {
        "colab": {
          "base_uri": "https://localhost:8080/"
        },
        "id": "h0DPldfh1GYs",
        "outputId": "e8561291-05bc-4cd3-8179-6f93a8ae3b85"
      },
      "execution_count": 6,
      "outputs": [
        {
          "output_type": "execute_result",
          "data": {
            "text/plain": [
              "array([[1, 'disc', 'Lorenzo', ..., 'background black - foreground green',\n",
              "        'bg opacity .2', 'Value Set 0,1,2,3,4,5,6,7,8,9'],\n",
              "       [2, 'disc', 'Lorenzo', ..., 'background black - foreground green',\n",
              "        'bg opacity .2', 'Value Set 0,1,2,3,4,5,6,7,8,9'],\n",
              "       [3, 'disc', 'Lorenzo', ..., 'background black - foreground green',\n",
              "        'bg opacity .2', 'Value Set 0,1,2,3,4,5,6,7,8,9'],\n",
              "       ...,\n",
              "       [126, 'rect', 'Lorenzo', ...,\n",
              "        'background black - foreground green', 'bg opacity .2',\n",
              "        'Value Set 0,1,2,3,4,5,6,7,8,9'],\n",
              "       [127, 'rect', 'Lorenzo', ...,\n",
              "        'background black - foreground green', 'bg opacity .2',\n",
              "        'Value Set 0,1,2,3,4,5,6,7,8,9'],\n",
              "       [128, 'rect', 'Lorenzo', ...,\n",
              "        'background black - foreground green', 'bg opacity .2',\n",
              "        'Value Set 0,1,2,3,4,5,6,7,8,9']], dtype=object)"
            ]
          },
          "metadata": {},
          "execution_count": 6
        }
      ]
    },
    {
      "cell_type": "markdown",
      "source": [
        "---\n",
        "# Parte 1: Promedio total de las valores de una columna"
      ],
      "metadata": {
        "id": "2zBFeCEnnTUX"
      }
    },
    {
      "cell_type": "markdown",
      "source": [
        "Programe un método `promedio_columna(arreglo,columna)` que calcula el valor promedio de las valores de una columna `columna` en un arreglo `arreglo`. \n",
        "\n",
        "A continuación se presenta una implementación incorrecta del metodo: deben corregirla. El bloque incluye un test que devuelve el resultado apropriado: pueden (y deberian!) extender tales tests para ayudar a su desarollo.\n"
      ],
      "metadata": {
        "id": "GdjhO5FEq7rO"
      }
    },
    {
      "cell_type": "code",
      "source": [
        "def promedio_columna(arreglo,columna):\n",
        "  \"\"\"Calcula el promedio de los valores en la columna `columna` del arreglo `log`.\"\"\"\n",
        "  promedio = (arreglo[0][columna]+arreglo[1][columna])/2 # Eso es incorrecto, obviamente.  \n",
        "  return promedio\n",
        "\n",
        "promedio_calculado = promedio_columna(log_Lorenzo,12) \n",
        "promedio_correcto = log_Lorenzo_df[\"Answering time (ms)\"].mean()\n",
        "assert promedio_calculado == promedio_correcto, \"El promedio calculado, `\"+str(promedio_calculado)+\"` difere del promedio correcto `\"+str(promedio_correcto)+\"`.\""
      ],
      "metadata": {
        "id": "vcsySUyhYCWu",
        "colab": {
          "base_uri": "https://localhost:8080/",
          "height": 204
        },
        "outputId": "95bef248-6665-4a6b-affd-1ce48b012737"
      },
      "execution_count": 7,
      "outputs": [
        {
          "output_type": "error",
          "ename": "AssertionError",
          "evalue": "ignored",
          "traceback": [
            "\u001b[0;31m---------------------------------------------------------------------------\u001b[0m",
            "\u001b[0;31mAssertionError\u001b[0m                            Traceback (most recent call last)",
            "\u001b[0;32m<ipython-input-7-98e0d099a345>\u001b[0m in \u001b[0;36m<module>\u001b[0;34m\u001b[0m\n\u001b[1;32m      6\u001b[0m \u001b[0mpromedio_calculado\u001b[0m \u001b[0;34m=\u001b[0m \u001b[0mpromedio_columna\u001b[0m\u001b[0;34m(\u001b[0m\u001b[0mlog_Lorenzo\u001b[0m\u001b[0;34m,\u001b[0m\u001b[0;36m12\u001b[0m\u001b[0;34m)\u001b[0m\u001b[0;34m\u001b[0m\u001b[0;34m\u001b[0m\u001b[0m\n\u001b[1;32m      7\u001b[0m \u001b[0mpromedio_correcto\u001b[0m \u001b[0;34m=\u001b[0m \u001b[0mlog_Lorenzo_df\u001b[0m\u001b[0;34m[\u001b[0m\u001b[0;34m\"Answering time (ms)\"\u001b[0m\u001b[0;34m]\u001b[0m\u001b[0;34m.\u001b[0m\u001b[0mmean\u001b[0m\u001b[0;34m(\u001b[0m\u001b[0;34m)\u001b[0m\u001b[0;34m\u001b[0m\u001b[0;34m\u001b[0m\u001b[0m\n\u001b[0;32m----> 8\u001b[0;31m \u001b[0;32massert\u001b[0m \u001b[0mpromedio_calculado\u001b[0m \u001b[0;34m==\u001b[0m \u001b[0mpromedio_correcto\u001b[0m\u001b[0;34m,\u001b[0m \u001b[0;34m\"El promedio calculado, `\"\u001b[0m\u001b[0;34m+\u001b[0m\u001b[0mstr\u001b[0m\u001b[0;34m(\u001b[0m\u001b[0mpromedio_calculado\u001b[0m\u001b[0;34m)\u001b[0m\u001b[0;34m+\u001b[0m\u001b[0;34m\"` difere del promedio correcto `\"\u001b[0m\u001b[0;34m+\u001b[0m\u001b[0mstr\u001b[0m\u001b[0;34m(\u001b[0m\u001b[0mpromedio_correcto\u001b[0m\u001b[0;34m)\u001b[0m\u001b[0;34m+\u001b[0m\u001b[0;34m\"`.\"\u001b[0m\u001b[0;34m\u001b[0m\u001b[0;34m\u001b[0m\u001b[0m\n\u001b[0m",
            "\u001b[0;31mAssertionError\u001b[0m: El promedio calculado, `437.0` difere del promedio correcto `1067.140625`."
          ]
        }
      ]
    },
    {
      "cell_type": "code",
      "source": [
        "# al usar []\n",
        "len(log_Lorenzo[0:5 ,12])"
      ],
      "metadata": {
        "colab": {
          "base_uri": "https://localhost:8080/"
        },
        "id": "FC9jdTNkKXPc",
        "outputId": "2274f4de-a333-4bc2-e104-264e68b8758c"
      },
      "execution_count": 8,
      "outputs": [
        {
          "output_type": "execute_result",
          "data": {
            "text/plain": [
              "5"
            ]
          },
          "metadata": {},
          "execution_count": 8
        }
      ]
    },
    {
      "cell_type": "code",
      "source": [
        "def promedio_columna(array, col):\n",
        "  \"\"\" Calcula el promedio de los valores en la columna del arreglo\"\"\"\n",
        "  \"\"\" Recibe como input un array y una columna numérica del arreglo \"\"\"\n",
        "\n",
        "  ### Primero debemos recuperar la columna\n",
        "  columna = array[:,col]\n",
        "  suma = 0\n",
        "  for i in columna:\n",
        "    suma += i\n",
        "  promedio = suma/ len(columna)\n",
        "\n",
        "  return promedio  \n",
        "\n",
        "promedio_calculado = promedio_columna(log_Lorenzo,12) \n",
        "promedio_correcto = log_Lorenzo_df[\"Answering time (ms)\"].mean()\n",
        "\n",
        "# Testing\n",
        "assert promedio_calculado == promedio_correcto, \"El promedio calculado, `\"+str(promedio_calculado)+\"` difere del promedio correcto `\"+str(promedio_correcto)+\"`.\""
      ],
      "metadata": {
        "id": "CUnyJZ88JgmX"
      },
      "execution_count": 9,
      "outputs": []
    },
    {
      "cell_type": "markdown",
      "source": [
        "## EJEMPLOS DE SOLUCIONES"
      ],
      "metadata": {
        "id": "xe1gn08DntSt"
      }
    },
    {
      "cell_type": "code",
      "source": [
        "def promedio_columna(arreglo,columna):\n",
        "  \"\"\"Calcula el promedio de los valores en la columna `columna` del arreglo `log`.\"\"\"\n",
        "  sum = 0\n",
        "  n = 0\n",
        "  for linea in arreglo:\n",
        "    n += 1\n",
        "    sum += linea[12]\n",
        "  return sum/n\n",
        "\n",
        "promedio_calculado = promedio_columna(log_Lorenzo,12) \n",
        "promedio_correcto = log_Lorenzo_df[\"Answering time (ms)\"].mean()\n",
        "assert promedio_calculado == promedio_correcto, \"El promedio calculado, `\"+str(promedio_calculado)+\"` difere del promedio correcto `\"+str(promedio_correcto)+\"`.\""
      ],
      "metadata": {
        "id": "VaVLk96saEA0"
      },
      "execution_count": 10,
      "outputs": []
    },
    {
      "cell_type": "markdown",
      "source": [
        "---\n",
        "# Parte 2: Identificación de elementos distintos\n"
      ],
      "metadata": {
        "id": "mLYf0yUvX5wB"
      }
    },
    {
      "cell_type": "markdown",
      "source": [
        "Programe un método `valores_distintos(arreglo,columna)` que calcula la cantidad de valores distintos en una columna `columna` especifica del arreglo `arreglo`.\n",
        "\n",
        "A continuación se presenta una implementación incorrecta del metodo: deben corregirla. El bloque incluye un test que devuelve el resultado apropriado: pueden (y deberian!) extender tales tests para ayudar a su desarollo.\n",
        "\n",
        "\n"
      ],
      "metadata": {
        "id": "Vtr-2F8DX5wC"
      }
    },
    {
      "cell_type": "code",
      "source": [
        "def valores_distintos(arreglo,columna):\n",
        "  \"\"\"Calcula la lista de valores distintos en una columna columna especifica del arreglo arreglo.\"\"\"\n",
        "  valores_distintos = [arreglo[1][columna]] # Eso es obviamente incorrecto en general\n",
        "  return valores_distintos\n",
        "\n",
        "valores_distintos_calculados = valores_distintos(log_Lorenzo,1)\n",
        "valores_distintos_correctos = log_Lorenzo_df[\"Display Mode\"].unique()\n",
        "assert len(valores_distintos_calculados) == len(valores_distintos_correctos), \"Se conto \"+str(len(valores_distintos_calculados))+\" valores distintos cuando hay \"+str(len(valores_distintos_correctos))+\" de ellos.\""
      ],
      "metadata": {
        "colab": {
          "base_uri": "https://localhost:8080/",
          "height": 204
        },
        "id": "oowznn2NbrYz",
        "outputId": "1aeab57f-1f8f-4fab-80ce-72afff8ca634"
      },
      "execution_count": 11,
      "outputs": [
        {
          "output_type": "error",
          "ename": "AssertionError",
          "evalue": "ignored",
          "traceback": [
            "\u001b[0;31m---------------------------------------------------------------------------\u001b[0m",
            "\u001b[0;31mAssertionError\u001b[0m                            Traceback (most recent call last)",
            "\u001b[0;32m<ipython-input-11-2b84259828f1>\u001b[0m in \u001b[0;36m<module>\u001b[0;34m\u001b[0m\n\u001b[1;32m      6\u001b[0m \u001b[0mvalores_distintos_calculados\u001b[0m \u001b[0;34m=\u001b[0m \u001b[0mvalores_distintos\u001b[0m\u001b[0;34m(\u001b[0m\u001b[0mlog_Lorenzo\u001b[0m\u001b[0;34m,\u001b[0m\u001b[0;36m1\u001b[0m\u001b[0;34m)\u001b[0m\u001b[0;34m\u001b[0m\u001b[0;34m\u001b[0m\u001b[0m\n\u001b[1;32m      7\u001b[0m \u001b[0mvalores_distintos_correctos\u001b[0m \u001b[0;34m=\u001b[0m \u001b[0mlog_Lorenzo_df\u001b[0m\u001b[0;34m[\u001b[0m\u001b[0;34m\"Display Mode\"\u001b[0m\u001b[0;34m]\u001b[0m\u001b[0;34m.\u001b[0m\u001b[0munique\u001b[0m\u001b[0;34m(\u001b[0m\u001b[0;34m)\u001b[0m\u001b[0;34m\u001b[0m\u001b[0;34m\u001b[0m\u001b[0m\n\u001b[0;32m----> 8\u001b[0;31m \u001b[0;32massert\u001b[0m \u001b[0mlen\u001b[0m\u001b[0;34m(\u001b[0m\u001b[0mvalores_distintos_calculados\u001b[0m\u001b[0;34m)\u001b[0m \u001b[0;34m==\u001b[0m \u001b[0mlen\u001b[0m\u001b[0;34m(\u001b[0m\u001b[0mvalores_distintos_correctos\u001b[0m\u001b[0;34m)\u001b[0m\u001b[0;34m,\u001b[0m \u001b[0;34m\"Se conto \"\u001b[0m\u001b[0;34m+\u001b[0m\u001b[0mstr\u001b[0m\u001b[0;34m(\u001b[0m\u001b[0mlen\u001b[0m\u001b[0;34m(\u001b[0m\u001b[0mvalores_distintos_calculados\u001b[0m\u001b[0;34m)\u001b[0m\u001b[0;34m)\u001b[0m\u001b[0;34m+\u001b[0m\u001b[0;34m\" valores distintos cuando hay \"\u001b[0m\u001b[0;34m+\u001b[0m\u001b[0mstr\u001b[0m\u001b[0;34m(\u001b[0m\u001b[0mlen\u001b[0m\u001b[0;34m(\u001b[0m\u001b[0mvalores_distintos_correctos\u001b[0m\u001b[0;34m)\u001b[0m\u001b[0;34m)\u001b[0m\u001b[0;34m+\u001b[0m\u001b[0;34m\" de ellos.\"\u001b[0m\u001b[0;34m\u001b[0m\u001b[0;34m\u001b[0m\u001b[0m\n\u001b[0m",
            "\u001b[0;31mAssertionError\u001b[0m: Se conto 1 valores distintos cuando hay 4 de ellos."
          ]
        }
      ]
    },
    {
      "cell_type": "code",
      "source": [
        "def valores_distintos(arreglo,columna):\n",
        "  arr, col = log_Lorenzo, columna\n",
        "  columna = arr[:,col]\n",
        "  valores_distintos = [columna[0]]\n",
        "\n",
        "  for elemento_columna in columna:\n",
        "    for elemento_valor_nuevo in valores_distintos:\n",
        "      if elemento_columna == elemento_valor_nuevo:\n",
        "        break                                       ### NO PASS, si no queda dando vueltas en el Loop\n",
        "    if elemento_columna != elemento_valor_nuevo:\n",
        "        valores_distintos.append(elemento_columna)\n",
        "        \n",
        "  return valores_distintos\n",
        "\n",
        "\n",
        "valores_distintos(log_Lorenzo, 1)\n",
        "### Testeando la funcion \n",
        "valores_distintos_calculados = valores_distintos(log_Lorenzo,1)\n",
        "valores_distintos_correctos = log_Lorenzo_df[\"Display Mode\"].unique()\n",
        "assert len(valores_distintos_calculados) == len(valores_distintos_correctos), \"Se conto \"+str(len(valores_distintos_calculados))+\" valores distintos cuando hay \"+str(len(valores_distintos_correctos))+\" de ellos.\""
      ],
      "metadata": {
        "id": "19PqTt4Nx6z3"
      },
      "execution_count": 12,
      "outputs": []
    },
    {
      "cell_type": "markdown",
      "source": [
        "## EJEMPLOS DE SOLUCIONES"
      ],
      "metadata": {
        "id": "WMt1xBL5X5wD"
      }
    },
    {
      "cell_type": "markdown",
      "source": [
        "### Usando `in`: (lo cual es un poco tramp, no aprenderan tan usando eso)"
      ],
      "metadata": {
        "id": "4a3u2aYv6s7I"
      }
    },
    {
      "cell_type": "code",
      "source": [
        "def valores_distintos(arreglo,columna):\n",
        "  \"\"\"Calcula la lista de valores distintos en una columna columna especifica del arreglo arreglo.\"\"\"\n",
        "  valores_distintos = []\n",
        "  for linea in arreglo:\n",
        "    valor = linea[columna]\n",
        "    if not (valor in valores_distintos):\n",
        "      valores_distintos.append(valor)\n",
        "  return valores_distintos\n",
        "\n",
        "valores_distintos_calculadas = valores_distintos(log_Lorenzo,1)\n",
        "valores_distintos_correctas = log_Lorenzo_df[\"Display Mode\"].unique()\n",
        "assert len(valores_distintos_calculadas) == len(valores_distintos_correctas), \"Se conto \"+str(len(valores_distintos_calculadas))+\" valores distintos cuando hay \"+str(len(valores_distintos_correctas))+\" de ellas.\""
      ],
      "metadata": {
        "id": "Xy1F1j2ac6B_"
      },
      "execution_count": 13,
      "outputs": []
    },
    {
      "cell_type": "markdown",
      "source": [
        "### Sin usar `in`:"
      ],
      "metadata": {
        "id": "rT_o0ZeD6xAK"
      }
    },
    {
      "cell_type": "code",
      "source": [
        "def valores_distintos(arreglo,columna):\n",
        "  \"\"\"Calcula la lista de valores distintos en una columna columna especifica del arreglo arreglo.\"\"\"\n",
        "  valores_distintos = []\n",
        "  for linea in arreglo:\n",
        "    valor = linea[columna]\n",
        "    found = False\n",
        "    for v in valores_distintos:\n",
        "      if v == valor:\n",
        "        found = True\n",
        "        break\n",
        "    if not found:\n",
        "      valores_distintos.append(valor)\n",
        "  return valores_distintos\n",
        "\n",
        "valores_distintos_calculadas = valores_distintos(log_Lorenzo,1)\n",
        "valores_distintos_correctas = log_Lorenzo_df[\"Display Mode\"].unique()\n",
        "assert len(valores_distintos_calculadas) == len(valores_distintos_correctas), \"Se conto \"+str(len(valores_distintos_calculadas))+\" valores distintos cuando hay \"+str(len(valores_distintos_correctas))+\" de ellas.\""
      ],
      "metadata": {
        "id": "iEMX1pVS6xAM"
      },
      "execution_count": 14,
      "outputs": []
    },
    {
      "cell_type": "code",
      "source": [
        "valores_distintos(log_Lorenzo,1)"
      ],
      "metadata": {
        "colab": {
          "base_uri": "https://localhost:8080/"
        },
        "id": "CuqB4r7iHgE1",
        "outputId": "67edda85-b4be-48b0-db88-edc9d17a4d96"
      },
      "execution_count": 15,
      "outputs": [
        {
          "output_type": "execute_result",
          "data": {
            "text/plain": [
              "['disc', 'heap', 'dice', 'rect']"
            ]
          },
          "metadata": {},
          "execution_count": 15
        }
      ]
    },
    {
      "cell_type": "markdown",
      "source": [
        "---\n",
        "# Parte 3: Cuenta cantidad de occurrencias de cada elemento distinto"
      ],
      "metadata": {
        "id": "iTOCXl83X47l"
      }
    },
    {
      "cell_type": "markdown",
      "source": [
        "Programe un método `occurrencias` que calcula las cantidades de occurrencias de cada elemento distinto en la columna `columna` de un arreglo `arreglo`.\n",
        "\n",
        "A continuación se presenta una implementación incorrecta del metodo: deben corregirla. El bloque incluye un test que devuelve el resultado apropriado: pueden (y deberian!) extender tales tests para ayudar a su desarollo."
      ],
      "metadata": {
        "id": "jxpQuFhxX47m"
      }
    },
    {
      "cell_type": "code",
      "source": [
        "def occurrencias(arreglo, columna):\n",
        "  \"\"\"Calcula las cantidades de occurrencias de cada elemento distinto en la columna `columna` de un arreglo `arreglo`.\"\"\"\n",
        "\n",
        "  occurrencias = {}\n",
        "  for linea in arreglo:\n",
        "    elemento = linea[columna]\n",
        "    found = False\n",
        "    for key in occurrencias.keys():\n",
        "      if key == elemento:\n",
        "        found = True\n",
        "        break\n",
        "\n",
        "    ### OJO este par de if else debe estar AFUERA del if de arriba\n",
        "    ### Porque de otra forma al hacer el break se lo va a saltar\n",
        "    ### Tal como pasa en el ejemplo de abajo\n",
        "\n",
        "    if not found:    # Me cuesta entender esta línea de código\n",
        "      occurrencias[elemento] = 1\n",
        "    else:\n",
        "      occurrencias[elemento] += 1\n",
        "  \n",
        "  return list(occurrencias.values())\n",
        "\n",
        "occurrencias_calculadas = occurrencias(log_Lorenzo,1)\n",
        "print(occurrencias_calculadas)"
      ],
      "metadata": {
        "colab": {
          "base_uri": "https://localhost:8080/"
        },
        "id": "fTZD3tKZJ_9f",
        "outputId": "842039a4-d5de-40ef-9746-762e4c48ce64"
      },
      "execution_count": 16,
      "outputs": [
        {
          "output_type": "stream",
          "name": "stdout",
          "text": [
            "[16, 30, 50, 32]\n"
          ]
        }
      ]
    },
    {
      "cell_type": "code",
      "source": [
        "# Que pasa si quiero almacenar cada uno de los elementos que aparece ?\n",
        "# i.e Dice: [Dice, Dice, Dice]\n",
        "\n",
        "def occurrencias(arreglo, columna):\n",
        "  \"\"\"Calcula las cantidades de occurrencias de cada elemento distinto en la columna `columna` de un arreglo `arreglo`.\"\"\"\n",
        "\n",
        "  occurrencias = {}\n",
        "  for linea in arreglo:\n",
        "    elemento = linea[columna]\n",
        "    found = False\n",
        "    for key in occurrencias.keys():\n",
        "      if key == elemento:\n",
        "        found = True\n",
        "        break\n",
        "      if not found:    # Me cuesta entender esta línea de código\n",
        "        occurrencias[elemento] = 1\n",
        "      else:\n",
        "        occurrencias[elemento] += 1\n",
        "  return occurrencias\n",
        "\n",
        "occurrencias_calculadas = occurrencias(log_Lorenzo,1)\n",
        "occurrencias_correctas = log_Lorenzo_df[\"Display Mode\"].value_counts().values\n",
        "assert len(occurrencias_calculadas) == len(occurrencias_correctas), \"La cantidad de occurrencias calculadas \"+str(len(occurrencias_calculadas))+\" diferen de la cantidad de occurrencias correctas \"+str(len(occurrencias_correctas))+\".\"\n",
        "assert numpy.array_equal(sorted(occurrencias_calculadas),sorted(occurrencias_correctas)), \"La occurrencias calculadas \"+str(sorted(occurrencias_calculadas))+\" diferen de las occurrencias correctas \"+str(sorted(occurrencias_correctas))+\".\""
      ],
      "metadata": {
        "id": "UyJf5Izt7dBn",
        "colab": {
          "base_uri": "https://localhost:8080/",
          "height": 258
        },
        "outputId": "dd33d8c2-f8b0-4219-a8b5-a4b75c2bbeed"
      },
      "execution_count": 17,
      "outputs": [
        {
          "output_type": "error",
          "ename": "AssertionError",
          "evalue": "ignored",
          "traceback": [
            "\u001b[0;31m---------------------------------------------------------------------------\u001b[0m",
            "\u001b[0;31mAssertionError\u001b[0m                            Traceback (most recent call last)",
            "\u001b[0;32m<ipython-input-17-42250f28ae16>\u001b[0m in \u001b[0;36m<module>\u001b[0;34m\u001b[0m\n\u001b[1;32m     21\u001b[0m \u001b[0moccurrencias_calculadas\u001b[0m \u001b[0;34m=\u001b[0m \u001b[0moccurrencias\u001b[0m\u001b[0;34m(\u001b[0m\u001b[0mlog_Lorenzo\u001b[0m\u001b[0;34m,\u001b[0m\u001b[0;36m1\u001b[0m\u001b[0;34m)\u001b[0m\u001b[0;34m\u001b[0m\u001b[0;34m\u001b[0m\u001b[0m\n\u001b[1;32m     22\u001b[0m \u001b[0moccurrencias_correctas\u001b[0m \u001b[0;34m=\u001b[0m \u001b[0mlog_Lorenzo_df\u001b[0m\u001b[0;34m[\u001b[0m\u001b[0;34m\"Display Mode\"\u001b[0m\u001b[0;34m]\u001b[0m\u001b[0;34m.\u001b[0m\u001b[0mvalue_counts\u001b[0m\u001b[0;34m(\u001b[0m\u001b[0;34m)\u001b[0m\u001b[0;34m.\u001b[0m\u001b[0mvalues\u001b[0m\u001b[0;34m\u001b[0m\u001b[0;34m\u001b[0m\u001b[0m\n\u001b[0;32m---> 23\u001b[0;31m \u001b[0;32massert\u001b[0m \u001b[0mlen\u001b[0m\u001b[0;34m(\u001b[0m\u001b[0moccurrencias_calculadas\u001b[0m\u001b[0;34m)\u001b[0m \u001b[0;34m==\u001b[0m \u001b[0mlen\u001b[0m\u001b[0;34m(\u001b[0m\u001b[0moccurrencias_correctas\u001b[0m\u001b[0;34m)\u001b[0m\u001b[0;34m,\u001b[0m \u001b[0;34m\"La cantidad de occurrencias calculadas \"\u001b[0m\u001b[0;34m+\u001b[0m\u001b[0mstr\u001b[0m\u001b[0;34m(\u001b[0m\u001b[0mlen\u001b[0m\u001b[0;34m(\u001b[0m\u001b[0moccurrencias_calculadas\u001b[0m\u001b[0;34m)\u001b[0m\u001b[0;34m)\u001b[0m\u001b[0;34m+\u001b[0m\u001b[0;34m\" diferen de la cantidad de occurrencias correctas \"\u001b[0m\u001b[0;34m+\u001b[0m\u001b[0mstr\u001b[0m\u001b[0;34m(\u001b[0m\u001b[0mlen\u001b[0m\u001b[0;34m(\u001b[0m\u001b[0moccurrencias_correctas\u001b[0m\u001b[0;34m)\u001b[0m\u001b[0;34m)\u001b[0m\u001b[0;34m+\u001b[0m\u001b[0;34m\".\"\u001b[0m\u001b[0;34m\u001b[0m\u001b[0;34m\u001b[0m\u001b[0m\n\u001b[0m\u001b[1;32m     24\u001b[0m \u001b[0;32massert\u001b[0m \u001b[0mnumpy\u001b[0m\u001b[0;34m.\u001b[0m\u001b[0marray_equal\u001b[0m\u001b[0;34m(\u001b[0m\u001b[0msorted\u001b[0m\u001b[0;34m(\u001b[0m\u001b[0moccurrencias_calculadas\u001b[0m\u001b[0;34m)\u001b[0m\u001b[0;34m,\u001b[0m\u001b[0msorted\u001b[0m\u001b[0;34m(\u001b[0m\u001b[0moccurrencias_correctas\u001b[0m\u001b[0;34m)\u001b[0m\u001b[0;34m)\u001b[0m\u001b[0;34m,\u001b[0m \u001b[0;34m\"La occurrencias calculadas \"\u001b[0m\u001b[0;34m+\u001b[0m\u001b[0mstr\u001b[0m\u001b[0;34m(\u001b[0m\u001b[0msorted\u001b[0m\u001b[0;34m(\u001b[0m\u001b[0moccurrencias_calculadas\u001b[0m\u001b[0;34m)\u001b[0m\u001b[0;34m)\u001b[0m\u001b[0;34m+\u001b[0m\u001b[0;34m\" diferen de las occurrencias correctas \"\u001b[0m\u001b[0;34m+\u001b[0m\u001b[0mstr\u001b[0m\u001b[0;34m(\u001b[0m\u001b[0msorted\u001b[0m\u001b[0;34m(\u001b[0m\u001b[0moccurrencias_correctas\u001b[0m\u001b[0;34m)\u001b[0m\u001b[0;34m)\u001b[0m\u001b[0;34m+\u001b[0m\u001b[0;34m\".\"\u001b[0m\u001b[0;34m\u001b[0m\u001b[0;34m\u001b[0m\u001b[0m\n",
            "\u001b[0;31mAssertionError\u001b[0m: La cantidad de occurrencias calculadas 0 diferen de la cantidad de occurrencias correctas 4."
          ]
        }
      ]
    },
    {
      "cell_type": "code",
      "source": [
        "def occurrencias(arreglo, columna):\n",
        "  \"\"\"Calcula las cantidades de ocurrencias de cada elemento distinto en la columna `columna` de un arreglo `arreglo`.\"\"\"\n",
        "  occurrencias = {}\n",
        "  for linea in arreglo:\n",
        "    elemento = linea[columna]\n",
        "    found = False\n",
        "    for key in occurrencias.keys():\n",
        "      if key == elemento:\n",
        "        found = True\n",
        "        break\n",
        "    if not found:\n",
        "      occurrencias[elemento] = 1\n",
        "    else:\n",
        "      occurrencias[elemento] += 1\n",
        "  return occurrencias\n",
        "\n",
        "print(occurrencias(log_Lorenzo,1))"
      ],
      "metadata": {
        "colab": {
          "base_uri": "https://localhost:8080/"
        },
        "id": "RDlTwgRuzypM",
        "outputId": "d509ad40-8aa5-4a7f-842c-048d557bdb83"
      },
      "execution_count": 18,
      "outputs": [
        {
          "output_type": "stream",
          "name": "stdout",
          "text": [
            "{'disc': 16, 'heap': 30, 'dice': 50, 'rect': 32}\n"
          ]
        }
      ]
    },
    {
      "cell_type": "markdown",
      "source": [
        "## EJEMPLOS DE SOLUCIONES"
      ],
      "metadata": {
        "id": "epW6x-mNX47n"
      }
    },
    {
      "cell_type": "code",
      "source": [
        "def occurrencias(arreglo, columna):\n",
        "  \"\"\"Calcula las cantidades de ocurrencias de cada elemento distinto en la columna `columna` de un arreglo `arreglo`.\"\"\"\n",
        "  occurrencias = {}\n",
        "  for linea in arreglo:\n",
        "    elemento = linea[columna]\n",
        "    found = False\n",
        "    for key in occurrencias.keys():\n",
        "      if key == elemento:\n",
        "        found = True\n",
        "        break\n",
        "    if not found:\n",
        "      occurrencias[elemento] = 1\n",
        "    else:\n",
        "      occurrencias[elemento] += 1\n",
        "  return list(occurrencias.values())\n",
        "\n",
        "occurrencias_calculadas = occurrencias(log_Lorenzo,1)\n",
        "occurrencias_correctas = log_Lorenzo_df[\"Display Mode\"].value_counts().values\n",
        "assert len(occurrencias_calculadas) == len(occurrencias_correctas), \"La cantidad de occurrencias calculadas \"+str(len(occurrencias_calculadas))+\" diferen de la cantidad de occurrencias correctas \"+str(len(occurrencias_correctas))+\".\"\n",
        "assert numpy.array_equal(sorted(occurrencias_calculadas),sorted(occurrencias_correctas)), \"La occurrencias calculadas \"+str(occurrencias_calculadas)+\" diferen de las occurrencias correctas \"+str(occurrencias_correctas)+\".\""
      ],
      "metadata": {
        "id": "WNQ1RRGk7dif"
      },
      "execution_count": 19,
      "outputs": []
    },
    {
      "cell_type": "markdown",
      "source": [
        "---\n",
        "# Parte 4: Promedios separados de cada tipo"
      ],
      "metadata": {
        "id": "3KJx8Ksm7foh"
      }
    },
    {
      "cell_type": "markdown",
      "source": [
        "Programe un método `promedios_separados` que calcula el promedio de los valores en la columna `columna_valores` condicionadas al valor de la columna `columna_tipo` en el arreglo `arreglo`, redundeado a 2 decimales.\n",
        "\n",
        "A continuación se presenta una implementación incorrecta del metodo: deben corregirla. El bloque incluye un test que devuelve el resultado apropriado: pueden (y deberian!) extender tales tests para ayudar a su desarollo."
      ],
      "metadata": {
        "id": "VrozdKlJ7foi"
      }
    },
    {
      "cell_type": "code",
      "source": [
        "def occurrencias(arreglo, columna):\n",
        "  \"\"\"Calcula las cantidades de ocurrencias de cada elemento distinto en la columna `columna` de un arreglo `arreglo`.\"\"\"\n",
        "  occurrencias = {}\n",
        "  for linea in arreglo:\n",
        "    elemento = linea[columna]\n",
        "    found = False\n",
        "    for key in occurrencias.keys():\n",
        "      if key == elemento:\n",
        "        found = True\n",
        "        break\n",
        "    if not found:\n",
        "      occurrencias[elemento] = 1\n",
        "    else:\n",
        "      occurrencias[elemento] += 1\n",
        "  return occurrencias\n",
        "\n",
        "print(occurrencias(log_Lorenzo,1))"
      ],
      "metadata": {
        "id": "x3SN8sJq2HNO",
        "colab": {
          "base_uri": "https://localhost:8080/"
        },
        "outputId": "6a96278c-1670-410c-d9a6-a86efdabc330"
      },
      "execution_count": 21,
      "outputs": [
        {
          "output_type": "stream",
          "name": "stdout",
          "text": [
            "{'disc': 16, 'heap': 30, 'dice': 50, 'rect': 32}\n"
          ]
        }
      ]
    },
    {
      "cell_type": "code",
      "source": [
        "def promedios_separados(arreglo,columna_tipo,columna_valores):\n",
        "  \"\"\"Calcula el promedio de los valores en la columna `columna_valores` \n",
        "  condicionadas al valor de la columna `columna_tipo` en el arreglo `arreglo`.\"\"\"\n",
        "\n",
        "  # identificar valores distintos para la columna tipo\n",
        "  # calcular el promedio para los distintos valores para cada columna\n",
        "\n",
        "  # Calcula el número de ocurrencias\n",
        "  tipo_ocurrencia = occurrencias(arreglo, columna_tipo)\n",
        "  suma_ocurrencia = {}\n",
        "\n",
        "\n",
        "  # Sumar los valores para cada tipo\n",
        "\n",
        "  # Voy a sumar todos los valores de la lista que coincidan con la llave\n",
        "  for key in tipo_ocurrencia.keys():\n",
        "    found = False\n",
        "    # parte con la llave A i.e\n",
        "    for linea in arreglo:\n",
        "      # comparar A con cada elemento de la columna_tipo\n",
        "      # si es igual sumar el valor indexado por el tipo (¿Y eliminar?)\n",
        "      if elemento == key:\n",
        "        suma_occurrencias[elemento] += elemento \n",
        "        found = True\n",
        "  \n",
        "\n",
        "  promedios = [0.86, 0.81, 0.93, 0.80]\n",
        "\n",
        "  return promedios\n",
        "\n",
        "promedios_separados_calculados = sorted(promedios_separados(log_Lorenzo,1,10))\n",
        "promedios_separados_correctos = sorted(log_Lorenzo_df.groupby(by=[\"Display Mode\"]).mean()[\"Correction\"].values)\n",
        "assert len(promedios_separados_calculados) == len(promedios_separados_correctos), \"La cantidad de promedios calculados \"+str(len(promedios_separados_calculados))+\" difere de la cantidad correcta \"+str(len(promedios_separados_correctos))+\".\"\n",
        "for i in range(len(promedios_separados_calculados)):\n",
        "  assert round(promedios_separados_calculados[i],2) == round(promedios_separados_correctos[i],2), \"Los promedios calculados \"+str(promedios_separados_calculados)+\" diferen de los correctos \"+str(promedios_separados_correctos)+\" en el \"+str(i)+\" esimo.\"\n"
      ],
      "metadata": {
        "id": "yF72WMn87foj",
        "colab": {
          "base_uri": "https://localhost:8080/",
          "height": 394
        },
        "outputId": "88910f94-db2a-46ac-c550-edd5e1fd0192"
      },
      "execution_count": 22,
      "outputs": [
        {
          "output_type": "error",
          "ename": "TypeError",
          "evalue": "ignored",
          "traceback": [
            "\u001b[0;31m---------------------------------------------------------------------------\u001b[0m",
            "\u001b[0;31mTypeError\u001b[0m                                 Traceback (most recent call last)",
            "\u001b[0;32m<ipython-input-22-9e0f4cb41f6d>\u001b[0m in \u001b[0;36m<module>\u001b[0;34m\u001b[0m\n\u001b[1;32m     29\u001b[0m   \u001b[0;32mreturn\u001b[0m \u001b[0mpromedios\u001b[0m\u001b[0;34m\u001b[0m\u001b[0;34m\u001b[0m\u001b[0m\n\u001b[1;32m     30\u001b[0m \u001b[0;34m\u001b[0m\u001b[0m\n\u001b[0;32m---> 31\u001b[0;31m \u001b[0mpromedios_separados_calculados\u001b[0m \u001b[0;34m=\u001b[0m \u001b[0msorted\u001b[0m\u001b[0;34m(\u001b[0m\u001b[0mpromedios_separados\u001b[0m\u001b[0;34m(\u001b[0m\u001b[0mlog_Lorenzo\u001b[0m\u001b[0;34m,\u001b[0m\u001b[0;36m1\u001b[0m\u001b[0;34m,\u001b[0m\u001b[0;36m10\u001b[0m\u001b[0;34m)\u001b[0m\u001b[0;34m)\u001b[0m\u001b[0;34m\u001b[0m\u001b[0;34m\u001b[0m\u001b[0m\n\u001b[0m\u001b[1;32m     32\u001b[0m \u001b[0mpromedios_separados_correctos\u001b[0m \u001b[0;34m=\u001b[0m \u001b[0msorted\u001b[0m\u001b[0;34m(\u001b[0m\u001b[0mlog_Lorenzo_df\u001b[0m\u001b[0;34m.\u001b[0m\u001b[0mgroupby\u001b[0m\u001b[0;34m(\u001b[0m\u001b[0mby\u001b[0m\u001b[0;34m=\u001b[0m\u001b[0;34m[\u001b[0m\u001b[0;34m\"Display Mode\"\u001b[0m\u001b[0;34m]\u001b[0m\u001b[0;34m)\u001b[0m\u001b[0;34m.\u001b[0m\u001b[0mmean\u001b[0m\u001b[0;34m(\u001b[0m\u001b[0;34m)\u001b[0m\u001b[0;34m[\u001b[0m\u001b[0;34m\"Correction\"\u001b[0m\u001b[0;34m]\u001b[0m\u001b[0;34m.\u001b[0m\u001b[0mvalues\u001b[0m\u001b[0;34m)\u001b[0m\u001b[0;34m\u001b[0m\u001b[0;34m\u001b[0m\u001b[0m\n\u001b[1;32m     33\u001b[0m \u001b[0;32massert\u001b[0m \u001b[0mlen\u001b[0m\u001b[0;34m(\u001b[0m\u001b[0mpromedios_separados_calculados\u001b[0m\u001b[0;34m)\u001b[0m \u001b[0;34m==\u001b[0m \u001b[0mlen\u001b[0m\u001b[0;34m(\u001b[0m\u001b[0mpromedios_separados_correctos\u001b[0m\u001b[0;34m)\u001b[0m\u001b[0;34m,\u001b[0m \u001b[0;34m\"La cantidad de promedios calculados \"\u001b[0m\u001b[0;34m+\u001b[0m\u001b[0mstr\u001b[0m\u001b[0;34m(\u001b[0m\u001b[0mlen\u001b[0m\u001b[0;34m(\u001b[0m\u001b[0mpromedios_separados_calculados\u001b[0m\u001b[0;34m)\u001b[0m\u001b[0;34m)\u001b[0m\u001b[0;34m+\u001b[0m\u001b[0;34m\" difere de la cantidad correcta \"\u001b[0m\u001b[0;34m+\u001b[0m\u001b[0mstr\u001b[0m\u001b[0;34m(\u001b[0m\u001b[0mlen\u001b[0m\u001b[0;34m(\u001b[0m\u001b[0mpromedios_separados_correctos\u001b[0m\u001b[0;34m)\u001b[0m\u001b[0;34m)\u001b[0m\u001b[0;34m+\u001b[0m\u001b[0;34m\".\"\u001b[0m\u001b[0;34m\u001b[0m\u001b[0;34m\u001b[0m\u001b[0m\n",
            "\u001b[0;32m<ipython-input-22-9e0f4cb41f6d>\u001b[0m in \u001b[0;36mpromedios_separados\u001b[0;34m(arreglo, columna_tipo, columna_valores)\u001b[0m\n\u001b[1;32m     17\u001b[0m     \u001b[0mfound\u001b[0m \u001b[0;34m=\u001b[0m \u001b[0;32mFalse\u001b[0m\u001b[0;34m\u001b[0m\u001b[0;34m\u001b[0m\u001b[0m\n\u001b[1;32m     18\u001b[0m     \u001b[0;31m# parte con la llave A i.e\u001b[0m\u001b[0;34m\u001b[0m\u001b[0;34m\u001b[0m\u001b[0;34m\u001b[0m\u001b[0m\n\u001b[0;32m---> 19\u001b[0;31m     \u001b[0;32mfor\u001b[0m \u001b[0melemento\u001b[0m \u001b[0;32min\u001b[0m \u001b[0mcolumna_tipo\u001b[0m\u001b[0;34m:\u001b[0m\u001b[0;34m\u001b[0m\u001b[0;34m\u001b[0m\u001b[0m\n\u001b[0m\u001b[1;32m     20\u001b[0m       \u001b[0;31m# comparar A con cada elemento de la columna_tipo\u001b[0m\u001b[0;34m\u001b[0m\u001b[0;34m\u001b[0m\u001b[0;34m\u001b[0m\u001b[0m\n\u001b[1;32m     21\u001b[0m       \u001b[0;31m# si es igual sumar el valor indexado por el tipo (¿Y eliminar?)\u001b[0m\u001b[0;34m\u001b[0m\u001b[0;34m\u001b[0m\u001b[0;34m\u001b[0m\u001b[0m\n",
            "\u001b[0;31mTypeError\u001b[0m: 'int' object is not iterable"
          ]
        }
      ]
    },
    {
      "cell_type": "markdown",
      "source": [
        "## EJEMPLOS DE SOLUCIONES"
      ],
      "metadata": {
        "id": "Ce7o_P3j7fok"
      }
    },
    {
      "cell_type": "code",
      "source": [
        "def promedios_separados(arreglo,columna_tipo,columna_valores):\n",
        "  \"\"\"Calcula el promedio de los valores en la columna `columna_valores` \n",
        "  condicionadas al valor de la columna `columna_tipo` en el arreglo `arreglo`.\"\"\"\n",
        "  occurrencias = {}\n",
        "  valores = {}\n",
        "  for linea in arreglo:\n",
        "    tipo = linea[columna_tipo]\n",
        "    found = False\n",
        "    for key in occurrencias.keys():\n",
        "      if key == tipo:\n",
        "        found = True\n",
        "        break\n",
        "    if not found:\n",
        "      occurrencias[tipo] = 1\n",
        "      valores[tipo] = int(linea[columna_valores])\n",
        "    else:\n",
        "      occurrencias[tipo] += 1\n",
        "      valores[tipo] += int(linea[columna_valores])\n",
        "  \n",
        "  for tipo, ocurrencia in occurrencias.items():\n",
        "    valores[tipo] = round(valores[tipo]/ocurrencia, 2)\n",
        "\n",
        "  return list(valores.values())\n",
        "\n",
        "promedios_separados_calculados = sorted(promedios_separados(log_Lorenzo,1,10))\n",
        "promedios_separados_correctos = sorted(log_Lorenzo_df.groupby(by=[\"Display Mode\"]).mean()[\"Correction\"].values)\n",
        "assert len(promedios_separados_calculados) == len(promedios_separados_correctos), \"La cantidad de promedios calculados \"+str(len(promedios_separados_calculados))+\" difere de la cantidad correcta \"+str(len(promedios_separados_correctos))+\".\"\n",
        "for i in range(len(promedios_separados_calculados)):\n",
        "  assert round(promedios_separados_calculados[i],2) == round(promedios_separados_correctos[i],2), \"Los promedios calculados \"+str(promedios_separados_calculados)+\" diferen de los correctos \"+str(promedios_separados_correctos)+\" en el \"+str(i)+\" esimo.\""
      ],
      "metadata": {
        "id": "wpFXJ9l27fok"
      },
      "execution_count": null,
      "outputs": []
    },
    {
      "cell_type": "markdown",
      "metadata": {
        "id": "uBMo5sQ3VVfr"
      },
      "source": [
        "---\n",
        "\n",
        "# Información adicional: \n",
        "\n"
      ]
    },
    {
      "cell_type": "markdown",
      "source": [
        "## Operaciones Reales"
      ],
      "metadata": {
        "id": "CceOpyZ4zWeD"
      }
    },
    {
      "cell_type": "markdown",
      "source": [
        "Las operaciones que les pediremos de desarrollar en las tareas YA fueron implementadas por ingenieros profesionales, y YA estan disponibles en varias libraries: el objetivo es que ustedes desarrollan funcionalidades similares para aprender a desarrollar otras mas sofisticadas en el futuro."
      ],
      "metadata": {
        "id": "WGrlURthJMWV"
      }
    },
    {
      "cell_type": "markdown",
      "source": [
        "Eso NO significa que deberian simplemente usar librerias Python que resuelven el problema pedido en un ejercicio o tarea. Pero no está prohibido usar tales libraries para VERIFICAR que el resultado de su implementación es correcto, o al menos tan correcto que lo de la libreria usada para verificar el resultado."
      ],
      "metadata": {
        "id": "Gh9EtJrzJrBx"
      }
    },
    {
      "cell_type": "markdown",
      "source": [
        "A continuación, describiremos el codigo python que le ayudaran a realizar las operaciones pedidas en la tarea, a manera de \n",
        "- ayudarlos a entender y visualizar las operaciones pedidas;\n",
        "- ayudarlos a verificar el output de su propia implementación; y \n",
        "- convencerlos de que lo pedido no es un ejercicio abstracto sino funcionalidades reales que se usan en el manejo de datos en la vida profesional."
      ],
      "metadata": {
        "id": "0aE0x0FlKAHI"
      }
    },
    {
      "cell_type": "markdown",
      "source": [
        "### Calculo de estadisticas"
      ],
      "metadata": {
        "id": "RexNEeRlKfqG"
      }
    },
    {
      "cell_type": "markdown",
      "source": [
        "El metodo `describe` de la classe `data_frame` permite de calcular estadisticas sobre las columnas del data frame, a dentro de cual el promedio (\"mean\") de los valores en las columnas:"
      ],
      "metadata": {
        "id": "hNXFuFfBKq1w"
      }
    },
    {
      "cell_type": "code",
      "source": [
        "log_Lorenzo_df.describe()"
      ],
      "metadata": {
        "id": "aszvbQ1NKiH_"
      },
      "execution_count": null,
      "outputs": []
    },
    {
      "cell_type": "markdown",
      "source": [
        "Para muchas columnas del log, tal promedio no tiene mucho sentido (e.g. el numero del test!), pero para otros si es util, como el tiempo de respuesta (\"Answering Time (ms)\"), que se puede acceder separamente:"
      ],
      "metadata": {
        "id": "GUjDKXnzK2v2"
      }
    },
    {
      "cell_type": "code",
      "source": [
        "log_Lorenzo_df[\"Answering time (ms)\"]"
      ],
      "metadata": {
        "id": "UAOa0gTjRISp"
      },
      "execution_count": null,
      "outputs": []
    },
    {
      "cell_type": "markdown",
      "source": [
        "Uno puede calcular las estadisticas sobre este columna solamente:"
      ],
      "metadata": {
        "id": "lGY_fOxnRnEg"
      }
    },
    {
      "cell_type": "code",
      "source": [
        "log_Lorenzo_df[\"Answering time (ms)\"].describe()"
      ],
      "metadata": {
        "id": "71t8NNDERrzh"
      },
      "execution_count": null,
      "outputs": []
    },
    {
      "cell_type": "markdown",
      "source": [
        "Si uno quiere otras estadisticas, existen otros metodos como `median`:"
      ],
      "metadata": {
        "id": "x_IxaXqORCVK"
      }
    },
    {
      "cell_type": "code",
      "source": [
        "log_Lorenzo_df[\"Answering time (ms)\"].median()"
      ],
      "metadata": {
        "id": "FFviWYMgRbu7"
      },
      "execution_count": null,
      "outputs": []
    },
    {
      "cell_type": "markdown",
      "source": [
        "### Eliminación de valores duplicadas"
      ],
      "metadata": {
        "id": "ghpvGNHwTT6D"
      }
    },
    {
      "cell_type": "markdown",
      "source": [
        "Los logs describen el rendimiento de los sujetos sobre 4 tipos de ejercicios: `dice`, `heap`, `rect` y `disc`: "
      ],
      "metadata": {
        "id": "z6-LOLNbL0U-"
      }
    },
    {
      "cell_type": "code",
      "source": [
        "log_Lorenzo_df[\"Display Mode\"].values"
      ],
      "metadata": {
        "id": "njQkp17qMMR9"
      },
      "execution_count": null,
      "outputs": []
    },
    {
      "cell_type": "markdown",
      "source": [
        "El metodo `describe` nos permite de verificar que hay exactamente 4 `Display Mode` distintos (para 128 occurencias en total):"
      ],
      "metadata": {
        "id": "lVD301pQNm45"
      }
    },
    {
      "cell_type": "code",
      "source": [
        "log_Lorenzo_df[\"Display Mode\"].describe()"
      ],
      "metadata": {
        "id": "OwVNvsSxNf0C"
      },
      "execution_count": null,
      "outputs": []
    },
    {
      "cell_type": "markdown",
      "source": [
        "El metodo `drop_duplicates` nos permite identificar tales 4 valores distintos (los valores indicados a la izquierda corresponden al indice de la primera ocurrencia de tal valor en la serie):\n"
      ],
      "metadata": {
        "id": "uLdJ0M6ePZho"
      }
    },
    {
      "cell_type": "code",
      "source": [
        "log_Lorenzo_df[\"Display Mode\"].drop_duplicates()"
      ],
      "metadata": {
        "id": "gGA9k7JXOoYQ"
      },
      "execution_count": null,
      "outputs": []
    },
    {
      "cell_type": "markdown",
      "source": [
        "El metodo `unique` retorna el arreglo de tales valores unicos:"
      ],
      "metadata": {
        "id": "3__w9BdzSpJF"
      }
    },
    {
      "cell_type": "code",
      "source": [
        "log_Lorenzo_df[\"Display Mode\"].unique()"
      ],
      "metadata": {
        "id": "1VxcRtVHSkd2"
      },
      "execution_count": null,
      "outputs": []
    },
    {
      "cell_type": "markdown",
      "source": [
        "Finalmente, el metodo `hist` nos permite ver graficamente el número de ocurrencias de cada valor:"
      ],
      "metadata": {
        "id": "CGFPURkFQTH3"
      }
    },
    {
      "cell_type": "code",
      "source": [
        "log_Lorenzo_df[\"Display Mode\"].hist()"
      ],
      "metadata": {
        "id": "B8iBmEN7QBx7"
      },
      "execution_count": null,
      "outputs": []
    },
    {
      "cell_type": "markdown",
      "source": [
        "Pueden revisar el metodo `plot` para ver otro tipo de graficos posibles."
      ],
      "metadata": {
        "id": "yASuPtwooVwk"
      }
    },
    {
      "cell_type": "markdown",
      "source": [
        "La lista de los valores de una columna es un objeto de tipo `Series` en el modulo `pandas.core.series`: pueden leer mas sobre los metodos que soporta tal tipo de objeto con la instrucción siguiente:\n"
      ],
      "metadata": {
        "id": "avQLeSQQNaps"
      }
    },
    {
      "cell_type": "code",
      "source": [
        "help(log_Lorenzo_df[\"Display Mode\"])"
      ],
      "metadata": {
        "id": "V4xR1urwNzvK"
      },
      "execution_count": null,
      "outputs": []
    },
    {
      "cell_type": "markdown",
      "source": [
        "### Agrupación de *items* y estadisticas separadas"
      ],
      "metadata": {
        "id": "f6aOEyiuKaF-"
      }
    },
    {
      "cell_type": "markdown",
      "source": [
        "Si uno quiere calcular el tiempo promedio de respuesta de cada tipo de ejercicio, uno realiza una operación `join` sobre el data_frame:"
      ],
      "metadata": {
        "id": "i80mgrGNThgg"
      }
    },
    {
      "cell_type": "code",
      "source": [
        "promedios_de_tiempo_de_respuesta_df = log_Lorenzo_df.groupby(by=[\"Display Mode\"]).describe()\n",
        "promedios_de_tiempo_de_respuesta_df"
      ],
      "metadata": {
        "id": "HvW6FLvAUBFB"
      },
      "execution_count": null,
      "outputs": []
    },
    {
      "cell_type": "markdown",
      "source": [
        "A dentro de tales estadisticas, podemos destacar:"
      ],
      "metadata": {
        "id": "Wj2bn12XVA9S"
      }
    },
    {
      "cell_type": "markdown",
      "source": [
        "las estadisticas sobre el tiempo promedio de respuesta de cada tipo de ejercicio:"
      ],
      "metadata": {
        "id": "5rX3kRNbVJ-w"
      }
    },
    {
      "cell_type": "code",
      "source": [
        "promedios_de_tiempo_de_respuesta_df[\"Answering time (ms)\"]"
      ],
      "metadata": {
        "id": "WIU7_B7UVKyA"
      },
      "execution_count": null,
      "outputs": []
    },
    {
      "cell_type": "markdown",
      "source": [
        "y las estadisticas sobre la cantidad de respuestas correctas para cada tipo de ejercicio (una taza de exito sobre 80% se considera muy buena!):"
      ],
      "metadata": {
        "id": "RpPCqWZeVLRY"
      }
    },
    {
      "cell_type": "code",
      "source": [
        "log_Lorenzo_df.groupby(by=[\"Display Mode\"]).mean()[\"Correction\"]"
      ],
      "metadata": {
        "id": "7h-xJl5DVLsL"
      },
      "execution_count": null,
      "outputs": []
    },
    {
      "cell_type": "markdown",
      "source": [
        "(para poder compararla con la del otro sujeto del experimento:)"
      ],
      "metadata": {
        "id": "oIQKcWIiWnnA"
      }
    },
    {
      "cell_type": "code",
      "source": [
        "log_Tina_df.groupby(by=[\"Display Mode\"]).mean()[\"Correction\"]"
      ],
      "metadata": {
        "id": "74IjqeeAWfW_"
      },
      "execution_count": null,
      "outputs": []
    },
    {
      "cell_type": "markdown",
      "source": [
        "## Interactive Python Notebooks"
      ],
      "metadata": {
        "id": "MhfB9gjeHP4g"
      }
    },
    {
      "cell_type": "markdown",
      "source": [
        "\n",
        "Para este curso, usaremos archivos de tipo `Interactive Python Notebooks` (extensión `.ipynb`, para **I**nteractive **PY**thon **N**ote**B**ook) de varias formas:\n",
        "- para entregar los apuntes interactivos, en cuales pueden ejecutar fragmentos de codigo para ver sus resultados, e incluso modificar su input o su codigo para ver como eso afecta su output; y \n",
        "- para que ustedes entreguen su tarea, combinando sus explicaciones y su codigo de una manera que facilite su ejecución para que el equipo docente pueda evaluar su corrección y entregarles su feedback de la manera mas fluida posible.\n",
        "\n",
        "Pueden leer mas al respecto de tal formato en https://ipython.org/, que ahora soporta otros languajes de programación ademas de Python.\n"
      ],
      "metadata": {
        "id": "hYY9Hek4EJlM"
      }
    },
    {
      "cell_type": "markdown",
      "source": [
        "## Colab"
      ],
      "metadata": {
        "id": "fMiL96EpHpuj"
      }
    },
    {
      "cell_type": "markdown",
      "source": [
        "Aun que son libres de usar cualquier solución para redactar tales Python Interactive Notebooks, sugerimos usar la plataforma https://colab.research.google.com para redactarlos y entregarlos, a manera de \n",
        "- facilitar la colaboracion entre miembros del mismo grupo si y cuando se realiza una tarea grupal; y de \n",
        "- facilitar el trabajo del equipo docente en evaluar su trabajo.\n",
        "\n",
        "Si no lo han hecho en otros curso o por su cuenta, vale la pena invertir un poco de tiempo en aprender como usar tal plataforma de manera efectiva, iniciando con https://research.google.com/colaboratory/faq.html!"
      ],
      "metadata": {
        "id": "tp_II4K3E-_7"
      }
    },
    {
      "cell_type": "markdown",
      "source": [
        "## \"Litterate Programming\""
      ],
      "metadata": {
        "id": "A4a25IZFD7GY"
      }
    },
    {
      "cell_type": "markdown",
      "source": [
        "La filosofia atras de combinar texto y codigo en el mismo documento, que inspiro el diseño de los `Interactive Python Notebooks` es antigua: las introdujo Donald Knuth en 1984, considerado como el \"padre\" de la area de investigación en el \"Diseño y Analisis de Algoritmos\".\n",
        "\n",
        "Tal metodo de trabajo y de comunicación es muy util tanto en el contexto de la docencia como en el contexto de la investigación y en el contexto del desarrollo profesional de programas documentados que seran extendidos por desarrolladores futuros.\n",
        "\n",
        "Pueden leer mas al respecto en https://en.wikipedia.org/wiki/Literate_programming#History_and_philosophy"
      ],
      "metadata": {
        "id": "aYc0X5ONHvHG"
      }
    },
    {
      "cell_type": "markdown",
      "source": [
        "## Experimento que genero los datos"
      ],
      "metadata": {
        "id": "yVpWE0t3C60A"
      }
    },
    {
      "cell_type": "markdown",
      "source": [
        "Los datos que se usaron para esta tarea son extraidos de un conjunto mas grande de datos, https://buho.dcc.uchile.cl/~inca/Logs/WhatIsMore/, que fueron generados por trabajo cientifico, del cual pueden aprender mas detalles con \n",
        "\n",
        "1. Un video de demo corto (3mns) https://pt.dcc.uchile.cl/w/jwACLoACoUgeBi7RneXkHt\n",
        "1. Un articulo corto en pdf https://barbay.cl/Publications/2022-ACI-MeasuringDiscriminationAbilitiesThroughaDigitalLifeEnrichmentApplication.pdf\n",
        "1. Un articulo mas largo (26 paginas) https://arxiv.org/abs/2206.00734\n",
        "\n",
        "Son experimentos realizados por el laboratorio de \"Interacciones Computacionales para Animales\" (InCA) del Departamento de Computación (DCC) de la Facultad de Ciencias Fisicas y Matematicas (FCFM) de la Universidad de Chile. Pueden aprender mas sobre tal laboratorio con \n",
        "1. un video de 16 mns de presentacion del grupo InCA: https://youtu.be/i_gvg7To83M\n",
        "1. el canal de videos del grupo en YouTube : https://www.youtube.com/watch?v=8GCLzvOMryo&list=PLJs1WGSCERxEDNFP9_RiCpkEz5nE6iYzc\n",
        "1. el sitio web del grupo: https://incalab.cl.\n",
        "\n",
        "Finalmente, pueden \"jugar\" al mismo juego que los sujetos del experimento en la pagina https://buho.dcc.uchile.cl/~fjana/\n",
        "\n"
      ],
      "metadata": {
        "id": "ZWUP6X2BC9qx"
      }
    }
  ]
}